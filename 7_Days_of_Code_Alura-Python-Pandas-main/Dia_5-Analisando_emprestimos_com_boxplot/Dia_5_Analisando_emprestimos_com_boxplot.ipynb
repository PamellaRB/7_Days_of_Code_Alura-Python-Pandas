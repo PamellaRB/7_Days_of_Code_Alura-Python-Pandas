{
  "cells": [
    {
      "cell_type": "markdown",
      "metadata": {
        "colab_type": "text",
        "id": "view-in-github"
      },
      "source": [
        "<a href=\"https://colab.research.google.com/github/FranciscoFoz/7_Days_of_Code_Alura-Python-Pandas/blob/main/Dia_5-Analisando_emprestimos_com_boxplot/Dia_5_Analisando_emprestimos_com_boxplot.ipynb\" target=\"_parent\"><img src=\"https://colab.research.google.com/assets/colab-badge.svg\" alt=\"Open In Colab\"/></a>"
      ]
    },
    {
      "cell_type": "markdown",
      "metadata": {
        "id": "lQ4DrRF-n70a"
      },
      "source": [
        "#Dia 1 - Importação de dados\n",
        "\n",
        "---\n",
        "\n",
        "\n"
      ]
    },
    {
      "cell_type": "code",
      "execution_count": 1,
      "metadata": {
        "id": "lY9KHwipn6Ez"
      },
      "outputs": [],
      "source": [
        "import pandas as pd"
      ]
    },
    {
      "cell_type": "markdown",
      "metadata": {
        "id": "zRjPJZmepiY9"
      },
      "source": [
        "## Coletando dados"
      ]
    },
    {
      "cell_type": "code",
      "execution_count": 2,
      "metadata": {
        "id": "TVdhDo9roNGw"
      },
      "outputs": [],
      "source": [
        "dados_2010_1 = pd.read_csv('https://github.com/FranciscoFoz/7_Days_of_Code_Alura-Python-Pandas/blob/main/Dia_1-Importando_dados/Datasets/dados_emprestimos/emprestimos-20101.csv?raw=true')\n",
        "dados_2010_2 = pd.read_csv('https://github.com/FranciscoFoz/7_Days_of_Code_Alura-Python-Pandas/blob/main/Dia_1-Importando_dados/Datasets/dados_emprestimos/emprestimos-20102.csv?raw=true')\n",
        "dados_2011_1 = pd.read_csv('https://github.com/FranciscoFoz/7_Days_of_Code_Alura-Python-Pandas/blob/main/Dia_1-Importando_dados/Datasets/dados_emprestimos/emprestimos-20111.csv?raw=true')\n",
        "dados_2011_2 = pd.read_csv('https://github.com/FranciscoFoz/7_Days_of_Code_Alura-Python-Pandas/blob/main/Dia_1-Importando_dados/Datasets/dados_emprestimos/emprestimos-20112.csv?raw=true')\n",
        "dados_2012_1 = pd.read_csv('https://github.com/FranciscoFoz/7_Days_of_Code_Alura-Python-Pandas/blob/main/Dia_1-Importando_dados/Datasets/dados_emprestimos/emprestimos-20121.csv?raw=true')\n",
        "dados_2012_2 = pd.read_csv('https://github.com/FranciscoFoz/7_Days_of_Code_Alura-Python-Pandas/blob/main/Dia_1-Importando_dados/Datasets/dados_emprestimos/emprestimos-20122.csv?raw=true')\n",
        "dados_2013_1 = pd.read_csv('https://github.com/FranciscoFoz/7_Days_of_Code_Alura-Python-Pandas/blob/main/Dia_1-Importando_dados/Datasets/dados_emprestimos/emprestimos-20131.csv?raw=true')\n",
        "dados_2013_2 = pd.read_csv('https://github.com/FranciscoFoz/7_Days_of_Code_Alura-Python-Pandas/blob/main/Dia_1-Importando_dados/Datasets/dados_emprestimos/emprestimos-20132.csv?raw=true')\n",
        "dados_2014_1 = pd.read_csv('https://github.com/FranciscoFoz/7_Days_of_Code_Alura-Python-Pandas/blob/main/Dia_1-Importando_dados/Datasets/dados_emprestimos/emprestimos-20141.csv?raw=true')\n",
        "dados_2014_2 = pd.read_csv('https://github.com/FranciscoFoz/7_Days_of_Code_Alura-Python-Pandas/blob/main/Dia_1-Importando_dados/Datasets/dados_emprestimos/emprestimos-20142.csv?raw=true')\n",
        "dados_2015_1 = pd.read_csv('https://github.com/FranciscoFoz/7_Days_of_Code_Alura-Python-Pandas/blob/main/Dia_1-Importando_dados/Datasets/dados_emprestimos/emprestimos-20151.csv?raw=true')\n",
        "dados_2015_2 = pd.read_csv('https://github.com/FranciscoFoz/7_Days_of_Code_Alura-Python-Pandas/blob/main/Dia_1-Importando_dados/Datasets/dados_emprestimos/emprestimos-20152.csv?raw=true')\n",
        "dados_2016_1 = pd.read_csv('https://github.com/FranciscoFoz/7_Days_of_Code_Alura-Python-Pandas/blob/main/Dia_1-Importando_dados/Datasets/dados_emprestimos/emprestimos-20161.csv?raw=true')\n",
        "dados_2016_2 = pd.read_csv('https://github.com/FranciscoFoz/7_Days_of_Code_Alura-Python-Pandas/blob/main/Dia_1-Importando_dados/Datasets/dados_emprestimos/emprestimos-20162.csv?raw=true')\n",
        "dados_2017_1 = pd.read_csv('https://github.com/FranciscoFoz/7_Days_of_Code_Alura-Python-Pandas/blob/main/Dia_1-Importando_dados/Datasets/dados_emprestimos/emprestimos-20171.csv?raw=true')\n",
        "dados_2017_2 = pd.read_csv('https://github.com/FranciscoFoz/7_Days_of_Code_Alura-Python-Pandas/blob/main/Dia_1-Importando_dados/Datasets/dados_emprestimos/emprestimos-20172.csv?raw=true')\n",
        "dados_2018_1 = pd.read_csv('https://github.com/FranciscoFoz/7_Days_of_Code_Alura-Python-Pandas/blob/main/Dia_1-Importando_dados/Datasets/dados_emprestimos/emprestimos-20181.csv?raw=true')\n",
        "dados_2018_2 = pd.read_csv('https://github.com/FranciscoFoz/7_Days_of_Code_Alura-Python-Pandas/blob/main/Dia_1-Importando_dados/Datasets/dados_emprestimos/emprestimos-20182.csv?raw=true')\n",
        "dados_2019_1 = pd.read_csv('https://github.com/FranciscoFoz/7_Days_of_Code_Alura-Python-Pandas/blob/main/Dia_1-Importando_dados/Datasets/dados_emprestimos/emprestimos-20191.csv?raw=true')\n",
        "dados_2019_2 = pd.read_csv('https://github.com/FranciscoFoz/7_Days_of_Code_Alura-Python-Pandas/blob/main/Dia_1-Importando_dados/Datasets/dados_emprestimos/emprestimos-20192.csv?raw=true')\n",
        "dados_2020_1 = pd.read_csv('https://github.com/FranciscoFoz/7_Days_of_Code_Alura-Python-Pandas/blob/main/Dia_1-Importando_dados/Datasets/dados_emprestimos/emprestimos-20201.csv?raw=true')\n"
      ]
    },
    {
      "cell_type": "markdown",
      "metadata": {
        "id": "vLSB-TcZpluc"
      },
      "source": [
        "## Concatenando os DataFrames"
      ]
    },
    {
      "cell_type": "code",
      "execution_count": 3,
      "metadata": {
        "colab": {
          "base_uri": "https://localhost:8080/",
          "height": 0
        },
        "id": "QvlObOCeoNuA",
        "outputId": "9b5751f7-1aa4-4281-c453-81a212fe4a79"
      },
      "outputs": [
        {
          "data": {
            "text/html": [
              "<div>\n",
              "<style scoped>\n",
              "    .dataframe tbody tr th:only-of-type {\n",
              "        vertical-align: middle;\n",
              "    }\n",
              "\n",
              "    .dataframe tbody tr th {\n",
              "        vertical-align: top;\n",
              "    }\n",
              "\n",
              "    .dataframe thead th {\n",
              "        text-align: right;\n",
              "    }\n",
              "</style>\n",
              "<table border=\"1\" class=\"dataframe\">\n",
              "  <thead>\n",
              "    <tr style=\"text-align: right;\">\n",
              "      <th></th>\n",
              "      <th>id_emprestimo</th>\n",
              "      <th>codigo_barras</th>\n",
              "      <th>data_renovacao</th>\n",
              "      <th>data_emprestimo</th>\n",
              "      <th>data_devolucao</th>\n",
              "      <th>matricula_ou_siape</th>\n",
              "      <th>tipo_vinculo_usuario</th>\n",
              "    </tr>\n",
              "  </thead>\n",
              "  <tbody>\n",
              "    <tr>\n",
              "      <th>0</th>\n",
              "      <td>709684</td>\n",
              "      <td>L095049</td>\n",
              "      <td>NaN</td>\n",
              "      <td>2010/01/04 07:44:10.721000000</td>\n",
              "      <td>2010/01/05 16:26:12.662000000</td>\n",
              "      <td>2.008023e+09</td>\n",
              "      <td>ALUNO DE GRADUAÇÃO</td>\n",
              "    </tr>\n",
              "    <tr>\n",
              "      <th>1</th>\n",
              "      <td>709685</td>\n",
              "      <td>L167050</td>\n",
              "      <td>NaN</td>\n",
              "      <td>2010/01/04 07:44:10.750000000</td>\n",
              "      <td>2010/01/12 07:34:13.934000000</td>\n",
              "      <td>2.008023e+09</td>\n",
              "      <td>ALUNO DE GRADUAÇÃO</td>\n",
              "    </tr>\n",
              "    <tr>\n",
              "      <th>2</th>\n",
              "      <td>709686</td>\n",
              "      <td>2006017618</td>\n",
              "      <td>2010/01/26 08:07:01.738000000</td>\n",
              "      <td>2010/01/04 08:08:44.081000000</td>\n",
              "      <td>2010/02/25 07:36:25.800000000</td>\n",
              "      <td>2.008112e+09</td>\n",
              "      <td>ALUNO DE PÓS-GRADUAÇÃO</td>\n",
              "    </tr>\n",
              "    <tr>\n",
              "      <th>3</th>\n",
              "      <td>709687</td>\n",
              "      <td>L184117</td>\n",
              "      <td>2010/01/18 11:07:46.470000000</td>\n",
              "      <td>2010/01/04 08:24:21.284000000</td>\n",
              "      <td>2010/02/03 08:58:45.692000000</td>\n",
              "      <td>2.007211e+08</td>\n",
              "      <td>ALUNO DE GRADUAÇÃO</td>\n",
              "    </tr>\n",
              "    <tr>\n",
              "      <th>4</th>\n",
              "      <td>709684</td>\n",
              "      <td>L095049</td>\n",
              "      <td>NaN</td>\n",
              "      <td>2010/01/04 07:44:10.721000000</td>\n",
              "      <td>2010/01/05 16:26:12.662000000</td>\n",
              "      <td>2.008023e+09</td>\n",
              "      <td>ALUNO DE GRADUAÇÃO</td>\n",
              "    </tr>\n",
              "    <tr>\n",
              "      <th>...</th>\n",
              "      <td>...</td>\n",
              "      <td>...</td>\n",
              "      <td>...</td>\n",
              "      <td>...</td>\n",
              "      <td>...</td>\n",
              "      <td>...</td>\n",
              "      <td>...</td>\n",
              "    </tr>\n",
              "    <tr>\n",
              "      <th>2258013</th>\n",
              "      <td>2989086</td>\n",
              "      <td>2008047044</td>\n",
              "      <td>NaN</td>\n",
              "      <td>2020/05/05 19:51:06.059000000</td>\n",
              "      <td>2021/05/13 14:53:31.000000000</td>\n",
              "      <td>3.067431e+06</td>\n",
              "      <td>SERVIDOR TÉCNICO-ADMINISTRATIVO</td>\n",
              "    </tr>\n",
              "    <tr>\n",
              "      <th>2258014</th>\n",
              "      <td>2989087</td>\n",
              "      <td>2008047047</td>\n",
              "      <td>NaN</td>\n",
              "      <td>2020/05/05 19:51:06.135000000</td>\n",
              "      <td>2021/05/13 14:53:38.000000000</td>\n",
              "      <td>3.067431e+06</td>\n",
              "      <td>SERVIDOR TÉCNICO-ADMINISTRATIVO</td>\n",
              "    </tr>\n",
              "    <tr>\n",
              "      <th>2258015</th>\n",
              "      <td>2989088</td>\n",
              "      <td>2010052905</td>\n",
              "      <td>NaN</td>\n",
              "      <td>2020/05/05 19:51:06.164000000</td>\n",
              "      <td>2021/05/13 15:01:46.000000000</td>\n",
              "      <td>3.067431e+06</td>\n",
              "      <td>SERVIDOR TÉCNICO-ADMINISTRATIVO</td>\n",
              "    </tr>\n",
              "    <tr>\n",
              "      <th>2258016</th>\n",
              "      <td>2989089</td>\n",
              "      <td>2010048023</td>\n",
              "      <td>NaN</td>\n",
              "      <td>2020/06/09 11:54:02.669000000</td>\n",
              "      <td>2021/07/21 15:33:55.000000000</td>\n",
              "      <td>2.020101e+10</td>\n",
              "      <td>ALUNO DE PÓS-GRADUAÇÃO</td>\n",
              "    </tr>\n",
              "    <tr>\n",
              "      <th>2258017</th>\n",
              "      <td>2989090</td>\n",
              "      <td>2013106838</td>\n",
              "      <td>NaN</td>\n",
              "      <td>2020/06/09 11:54:02.852000000</td>\n",
              "      <td>2021/07/21 15:33:45.000000000</td>\n",
              "      <td>2.020101e+10</td>\n",
              "      <td>ALUNO DE PÓS-GRADUAÇÃO</td>\n",
              "    </tr>\n",
              "  </tbody>\n",
              "</table>\n",
              "<p>2258018 rows × 7 columns</p>\n",
              "</div>"
            ],
            "text/plain": [
              "         id_emprestimo codigo_barras                 data_renovacao  \\\n",
              "0               709684       L095049                            NaN   \n",
              "1               709685       L167050                            NaN   \n",
              "2               709686    2006017618  2010/01/26 08:07:01.738000000   \n",
              "3               709687       L184117  2010/01/18 11:07:46.470000000   \n",
              "4               709684       L095049                            NaN   \n",
              "...                ...           ...                            ...   \n",
              "2258013        2989086    2008047044                            NaN   \n",
              "2258014        2989087    2008047047                            NaN   \n",
              "2258015        2989088    2010052905                            NaN   \n",
              "2258016        2989089    2010048023                            NaN   \n",
              "2258017        2989090    2013106838                            NaN   \n",
              "\n",
              "                       data_emprestimo                 data_devolucao  \\\n",
              "0        2010/01/04 07:44:10.721000000  2010/01/05 16:26:12.662000000   \n",
              "1        2010/01/04 07:44:10.750000000  2010/01/12 07:34:13.934000000   \n",
              "2        2010/01/04 08:08:44.081000000  2010/02/25 07:36:25.800000000   \n",
              "3        2010/01/04 08:24:21.284000000  2010/02/03 08:58:45.692000000   \n",
              "4        2010/01/04 07:44:10.721000000  2010/01/05 16:26:12.662000000   \n",
              "...                                ...                            ...   \n",
              "2258013  2020/05/05 19:51:06.059000000  2021/05/13 14:53:31.000000000   \n",
              "2258014  2020/05/05 19:51:06.135000000  2021/05/13 14:53:38.000000000   \n",
              "2258015  2020/05/05 19:51:06.164000000  2021/05/13 15:01:46.000000000   \n",
              "2258016  2020/06/09 11:54:02.669000000  2021/07/21 15:33:55.000000000   \n",
              "2258017  2020/06/09 11:54:02.852000000  2021/07/21 15:33:45.000000000   \n",
              "\n",
              "         matricula_ou_siape             tipo_vinculo_usuario  \n",
              "0              2.008023e+09               ALUNO DE GRADUAÇÃO  \n",
              "1              2.008023e+09               ALUNO DE GRADUAÇÃO  \n",
              "2              2.008112e+09           ALUNO DE PÓS-GRADUAÇÃO  \n",
              "3              2.007211e+08               ALUNO DE GRADUAÇÃO  \n",
              "4              2.008023e+09               ALUNO DE GRADUAÇÃO  \n",
              "...                     ...                              ...  \n",
              "2258013        3.067431e+06  SERVIDOR TÉCNICO-ADMINISTRATIVO  \n",
              "2258014        3.067431e+06  SERVIDOR TÉCNICO-ADMINISTRATIVO  \n",
              "2258015        3.067431e+06  SERVIDOR TÉCNICO-ADMINISTRATIVO  \n",
              "2258016        2.020101e+10           ALUNO DE PÓS-GRADUAÇÃO  \n",
              "2258017        2.020101e+10           ALUNO DE PÓS-GRADUAÇÃO  \n",
              "\n",
              "[2258018 rows x 7 columns]"
            ]
          },
          "execution_count": 3,
          "metadata": {},
          "output_type": "execute_result"
        }
      ],
      "source": [
        "emprestimos_biblioteca = pd.concat([dados_2010_1,dados_2010_2,dados_2011_1,dados_2011_2,dados_2012_1,dados_2012_2,dados_2013_1,dados_2013_2,dados_2014_1,\n",
        "                                    dados_2014_2,dados_2015_1,dados_2015_2,dados_2016_1,dados_2016_2,dados_2017_1,dados_2017_2,dados_2018_1,dados_2018_2,\n",
        "                                    dados_2019_1,dados_2019_2,dados_2020_1],ignore_index=True)\n",
        "emprestimos_biblioteca"
      ]
    },
    {
      "cell_type": "markdown",
      "metadata": {
        "id": "XOoMMaPCppUk"
      },
      "source": [
        "## Verificando duplicatas"
      ]
    },
    {
      "cell_type": "code",
      "execution_count": 5,
      "metadata": {
        "colab": {
          "base_uri": "https://localhost:8080/"
        },
        "id": "2NA7SNJIoNrh",
        "outputId": "6ffdb92e-0bee-49f1-d21b-05b1d8cd11b1"
      },
      "outputs": [
        {
          "data": {
            "text/plain": [
              "id_emprestimo  codigo_barras  data_renovacao                 data_emprestimo                data_devolucao                 matricula_ou_siape  tipo_vinculo_usuario  \n",
              "709704         2006021442     2010/01/17 18:56:43.923000000  2010/01/04 09:58:46.522000000  2010/02/01 13:59:02.528000000  2.008010e+09        ALUNO DE GRADUAÇÃO        7\n",
              "709705         2009032168     2010/01/17 18:56:43.909000000  2010/01/04 09:58:46.549000000  2010/01/20 13:14:34.464000000  2.008010e+09        ALUNO DE GRADUAÇÃO        7\n",
              "709698         2009047725     2010/01/18 14:44:41.163000000  2010/01/04 09:21:19.099000000  2010/02/02 12:02:38.444000000  2.009047e+09        ALUNO DE GRADUAÇÃO        3\n",
              "709686         2006017618     2010/01/26 08:07:01.738000000  2010/01/04 08:08:44.081000000  2010/02/25 07:36:25.800000000  2.008112e+09        ALUNO DE PÓS-GRADUAÇÃO    2\n",
              "2461099        2012008348     2016/06/27 20:35:46.855000000  2016/06/14 11:20:33.254000000  2016/07/11 14:37:29.000000000  2.015022e+09        ALUNO DE GRADUAÇÃO        2\n",
              "                                                                                                                                                                        ..\n",
              "1443389        2011018954     2013/03/22 13:18:55.037000000  2013/03/07 11:21:26.480000000  2013/04/08 20:26:07.000000000  2.010046e+09        ALUNO DE GRADUAÇÃO        1\n",
              "1443390        2009056314     2013/03/21 09:28:45.689000000  2013/03/07 11:21:28.899000000  2013/04/05 18:18:00.000000000  2.011015e+09        ALUNO DE GRADUAÇÃO        1\n",
              "1443393        2012037906     2013/03/20 20:17:10.574000000  2013/03/07 11:24:19.326000000  2013/03/25 08:58:44.000000000  2.011038e+09        ALUNO DE GRADUAÇÃO        1\n",
              "1443395        2011033069     2013/04/07 01:06:51.679000000  2013/03/07 11:25:22.661000000  2013/05/07 16:19:34.000000000  2.011106e+09        ALUNO DE PÓS-GRADUAÇÃO    1\n",
              "10322328       2014070441     2018/01/15 12:26:00.697000000  2017/12/29 18:21:09.060000000  2018/01/31 18:50:25.000000000  2.014063e+09        ALUNO DE GRADUAÇÃO        1\n",
              "Name: count, Length: 968028, dtype: int64"
            ]
          },
          "execution_count": 5,
          "metadata": {},
          "output_type": "execute_result"
        }
      ],
      "source": [
        "emprestimos_biblioteca.value_counts()"
      ]
    },
    {
      "cell_type": "markdown",
      "metadata": {
        "id": "xb0W7KuZpr6e"
      },
      "source": [
        "## Excluindo duplicatas"
      ]
    },
    {
      "cell_type": "code",
      "execution_count": 6,
      "metadata": {
        "id": "Hf3_KI04oNkO"
      },
      "outputs": [],
      "source": [
        "emprestimos_biblioteca = emprestimos_biblioteca.drop_duplicates()"
      ]
    },
    {
      "cell_type": "code",
      "execution_count": 7,
      "metadata": {},
      "outputs": [],
      "source": [
        "valores_nulos = emprestimos_biblioteca.isnull().sum()\n",
        "emprestimos_biblioteca = emprestimos_biblioteca.dropna()"
      ]
    },
    {
      "cell_type": "code",
      "execution_count": 8,
      "metadata": {
        "colab": {
          "base_uri": "https://localhost:8080/"
        },
        "id": "wjEq_l1oowM3",
        "outputId": "82226fdc-c212-4ab9-b6cb-e57d37237e80"
      },
      "outputs": [
        {
          "data": {
            "text/plain": [
              "id_emprestimo  codigo_barras  data_renovacao                 data_emprestimo                data_devolucao                 matricula_ou_siape  tipo_vinculo_usuario  \n",
              "709686         2006017618     2010/01/26 08:07:01.738000000  2010/01/04 08:08:44.081000000  2010/02/25 07:36:25.800000000  2.008112e+09        ALUNO DE PÓS-GRADUAÇÃO    1\n",
              "2336122        2011033079     2016/11/21 02:01:58.488000000  2016/11/10 17:00:12.989000000  2016/12/02 14:21:49.000000000  2.016023e+09        ALUNO DE GRADUAÇÃO        1\n",
              "2336103        2014085936     2016/11/25 19:25:36.215000000  2016/11/10 16:54:52.447000000  2016/12/13 14:30:52.000000000  2.014047e+09        ALUNO DE GRADUAÇÃO        1\n",
              "2336104        2011027960     2016/11/23 17:27:54.642000000  2016/11/10 16:55:17.956000000  2016/11/28 10:32:38.000000000  2.016083e+09        ALUNO DE GRADUAÇÃO        1\n",
              "2336105        2014000897     2016/12/02 15:02:53.356000000  2016/11/10 16:55:19.851000000  2016/12/23 13:53:23.000000000  2.014071e+09        ALUNO DE GRADUAÇÃO        1\n",
              "                                                                                                                                                                        ..\n",
              "1443383        2010043058     2013/03/21 14:06:09.837000000  2013/03/07 11:17:25.008000000  2013/03/22 11:31:20.000000000  2.010023e+09        ALUNO DE GRADUAÇÃO        1\n",
              "1443387        L147018        2013/03/21 19:43:42.047000000  2013/03/07 11:20:01.159000000  2013/04/04 10:50:22.000000000  2.013053e+09        ALUNO DE GRADUAÇÃO        1\n",
              "1443389        2011018954     2013/03/22 13:18:55.037000000  2013/03/07 11:21:26.480000000  2013/04/08 20:26:07.000000000  2.010046e+09        ALUNO DE GRADUAÇÃO        1\n",
              "1443390        2009056314     2013/03/21 09:28:45.689000000  2013/03/07 11:21:28.899000000  2013/04/05 18:18:00.000000000  2.011015e+09        ALUNO DE GRADUAÇÃO        1\n",
              "10322328       2014070441     2018/01/15 12:26:00.697000000  2017/12/29 18:21:09.060000000  2018/01/31 18:50:25.000000000  2.014063e+09        ALUNO DE GRADUAÇÃO        1\n",
              "Name: count, Length: 968028, dtype: int64"
            ]
          },
          "execution_count": 8,
          "metadata": {},
          "output_type": "execute_result"
        }
      ],
      "source": [
        "emprestimos_biblioteca.value_counts()"
      ]
    },
    {
      "cell_type": "code",
      "execution_count": 9,
      "metadata": {
        "colab": {
          "base_uri": "https://localhost:8080/",
          "height": 0
        },
        "id": "jMfxrLzDoVUP",
        "outputId": "944c319b-1038-44ad-a346-e1e3038492b1"
      },
      "outputs": [
        {
          "data": {
            "text/html": [
              "<div>\n",
              "<style scoped>\n",
              "    .dataframe tbody tr th:only-of-type {\n",
              "        vertical-align: middle;\n",
              "    }\n",
              "\n",
              "    .dataframe tbody tr th {\n",
              "        vertical-align: top;\n",
              "    }\n",
              "\n",
              "    .dataframe thead th {\n",
              "        text-align: right;\n",
              "    }\n",
              "</style>\n",
              "<table border=\"1\" class=\"dataframe\">\n",
              "  <thead>\n",
              "    <tr style=\"text-align: right;\">\n",
              "      <th></th>\n",
              "      <th>id_emprestimo</th>\n",
              "      <th>codigo_barras</th>\n",
              "      <th>data_renovacao</th>\n",
              "      <th>data_emprestimo</th>\n",
              "      <th>data_devolucao</th>\n",
              "      <th>matricula_ou_siape</th>\n",
              "      <th>tipo_vinculo_usuario</th>\n",
              "    </tr>\n",
              "  </thead>\n",
              "  <tbody>\n",
              "    <tr>\n",
              "      <th>2</th>\n",
              "      <td>709686</td>\n",
              "      <td>2006017618</td>\n",
              "      <td>2010/01/26 08:07:01.738000000</td>\n",
              "      <td>2010/01/04 08:08:44.081000000</td>\n",
              "      <td>2010/02/25 07:36:25.800000000</td>\n",
              "      <td>2.008112e+09</td>\n",
              "      <td>ALUNO DE PÓS-GRADUAÇÃO</td>\n",
              "    </tr>\n",
              "    <tr>\n",
              "      <th>3</th>\n",
              "      <td>709687</td>\n",
              "      <td>L184117</td>\n",
              "      <td>2010/01/18 11:07:46.470000000</td>\n",
              "      <td>2010/01/04 08:24:21.284000000</td>\n",
              "      <td>2010/02/03 08:58:45.692000000</td>\n",
              "      <td>2.007211e+08</td>\n",
              "      <td>ALUNO DE GRADUAÇÃO</td>\n",
              "    </tr>\n",
              "    <tr>\n",
              "      <th>8</th>\n",
              "      <td>709688</td>\n",
              "      <td>2007027500</td>\n",
              "      <td>2010/01/19 15:59:26.464000000</td>\n",
              "      <td>2010/01/04 08:27:33.569000000</td>\n",
              "      <td>2010/02/03 13:06:30.662000000</td>\n",
              "      <td>2.009046e+09</td>\n",
              "      <td>ALUNO DE GRADUAÇÃO</td>\n",
              "    </tr>\n",
              "    <tr>\n",
              "      <th>9</th>\n",
              "      <td>709689</td>\n",
              "      <td>L157395</td>\n",
              "      <td>2010/01/19 15:59:26.447000000</td>\n",
              "      <td>2010/01/04 08:27:33.596000000</td>\n",
              "      <td>2010/02/03 13:06:43.125000000</td>\n",
              "      <td>2.009046e+09</td>\n",
              "      <td>ALUNO DE GRADUAÇÃO</td>\n",
              "    </tr>\n",
              "    <tr>\n",
              "      <th>11</th>\n",
              "      <td>709691</td>\n",
              "      <td>2008046357</td>\n",
              "      <td>2010/01/19 11:50:13.404000000</td>\n",
              "      <td>2010/01/04 09:02:30.576000000</td>\n",
              "      <td>2010/02/02 12:13:36.132000000</td>\n",
              "      <td>2.005075e+08</td>\n",
              "      <td>ALUNO DE GRADUAÇÃO</td>\n",
              "    </tr>\n",
              "  </tbody>\n",
              "</table>\n",
              "</div>"
            ],
            "text/plain": [
              "    id_emprestimo codigo_barras                 data_renovacao  \\\n",
              "2          709686    2006017618  2010/01/26 08:07:01.738000000   \n",
              "3          709687       L184117  2010/01/18 11:07:46.470000000   \n",
              "8          709688    2007027500  2010/01/19 15:59:26.464000000   \n",
              "9          709689       L157395  2010/01/19 15:59:26.447000000   \n",
              "11         709691    2008046357  2010/01/19 11:50:13.404000000   \n",
              "\n",
              "                  data_emprestimo                 data_devolucao  \\\n",
              "2   2010/01/04 08:08:44.081000000  2010/02/25 07:36:25.800000000   \n",
              "3   2010/01/04 08:24:21.284000000  2010/02/03 08:58:45.692000000   \n",
              "8   2010/01/04 08:27:33.569000000  2010/02/03 13:06:30.662000000   \n",
              "9   2010/01/04 08:27:33.596000000  2010/02/03 13:06:43.125000000   \n",
              "11  2010/01/04 09:02:30.576000000  2010/02/02 12:13:36.132000000   \n",
              "\n",
              "    matricula_ou_siape    tipo_vinculo_usuario  \n",
              "2         2.008112e+09  ALUNO DE PÓS-GRADUAÇÃO  \n",
              "3         2.007211e+08      ALUNO DE GRADUAÇÃO  \n",
              "8         2.009046e+09      ALUNO DE GRADUAÇÃO  \n",
              "9         2.009046e+09      ALUNO DE GRADUAÇÃO  \n",
              "11        2.005075e+08      ALUNO DE GRADUAÇÃO  "
            ]
          },
          "execution_count": 9,
          "metadata": {},
          "output_type": "execute_result"
        }
      ],
      "source": [
        "emprestimos_biblioteca.head()"
      ]
    },
    {
      "cell_type": "markdown",
      "metadata": {
        "id": "swsnv0ZXpwvy"
      },
      "source": [
        "## Importando mais dados"
      ]
    },
    {
      "cell_type": "code",
      "execution_count": 10,
      "metadata": {
        "colab": {
          "base_uri": "https://localhost:8080/",
          "height": 0
        },
        "id": "JxqipYBhoWMf",
        "outputId": "9b2c628c-d254-45ae-ec26-51f8ebf69c82"
      },
      "outputs": [
        {
          "data": {
            "text/html": [
              "<div>\n",
              "<style scoped>\n",
              "    .dataframe tbody tr th:only-of-type {\n",
              "        vertical-align: middle;\n",
              "    }\n",
              "\n",
              "    .dataframe tbody tr th {\n",
              "        vertical-align: top;\n",
              "    }\n",
              "\n",
              "    .dataframe thead th {\n",
              "        text-align: right;\n",
              "    }\n",
              "</style>\n",
              "<table border=\"1\" class=\"dataframe\">\n",
              "  <thead>\n",
              "    <tr style=\"text-align: right;\">\n",
              "      <th></th>\n",
              "      <th>id_exemplar</th>\n",
              "      <th>codigo_barras</th>\n",
              "      <th>colecao</th>\n",
              "      <th>biblioteca</th>\n",
              "      <th>status_material</th>\n",
              "      <th>localizacao</th>\n",
              "      <th>registro_sistema</th>\n",
              "    </tr>\n",
              "    <tr>\n",
              "      <th>index</th>\n",
              "      <th></th>\n",
              "      <th></th>\n",
              "      <th></th>\n",
              "      <th></th>\n",
              "      <th></th>\n",
              "      <th></th>\n",
              "      <th></th>\n",
              "    </tr>\n",
              "  </thead>\n",
              "  <tbody>\n",
              "    <tr>\n",
              "      <th>0</th>\n",
              "      <td>5</td>\n",
              "      <td>L000003</td>\n",
              "      <td>Acervo Circulante</td>\n",
              "      <td>Biblioteca Central Zila Mamede</td>\n",
              "      <td>REGULAR</td>\n",
              "      <td>694</td>\n",
              "      <td>1</td>\n",
              "    </tr>\n",
              "    <tr>\n",
              "      <th>1</th>\n",
              "      <td>4</td>\n",
              "      <td>L000002</td>\n",
              "      <td>Acervo Circulante</td>\n",
              "      <td>Biblioteca Central Zila Mamede</td>\n",
              "      <td>REGULAR</td>\n",
              "      <td>688</td>\n",
              "      <td>1</td>\n",
              "    </tr>\n",
              "    <tr>\n",
              "      <th>2</th>\n",
              "      <td>3</td>\n",
              "      <td>L000001</td>\n",
              "      <td>Acervo Circulante</td>\n",
              "      <td>Biblioteca Central Zila Mamede</td>\n",
              "      <td>ESPECIAL</td>\n",
              "      <td>638</td>\n",
              "      <td>1</td>\n",
              "    </tr>\n",
              "    <tr>\n",
              "      <th>3</th>\n",
              "      <td>7</td>\n",
              "      <td>L000114</td>\n",
              "      <td>Acervo Circulante</td>\n",
              "      <td>Biblioteca Central Zila Mamede</td>\n",
              "      <td>REGULAR</td>\n",
              "      <td>616</td>\n",
              "      <td>5</td>\n",
              "    </tr>\n",
              "    <tr>\n",
              "      <th>5</th>\n",
              "      <td>10</td>\n",
              "      <td>L000041</td>\n",
              "      <td>Acervo Circulante</td>\n",
              "      <td>Biblioteca Central Zila Mamede</td>\n",
              "      <td>ESPECIAL</td>\n",
              "      <td>657</td>\n",
              "      <td>15</td>\n",
              "    </tr>\n",
              "    <tr>\n",
              "      <th>...</th>\n",
              "      <td>...</td>\n",
              "      <td>...</td>\n",
              "      <td>...</td>\n",
              "      <td>...</td>\n",
              "      <td>...</td>\n",
              "      <td>...</td>\n",
              "      <td>...</td>\n",
              "    </tr>\n",
              "    <tr>\n",
              "      <th>568580</th>\n",
              "      <td>1353472</td>\n",
              "      <td>2021011150</td>\n",
              "      <td>Acervo Circulante</td>\n",
              "      <td>Biblioteca Setorial do Núcleo de Educação da I...</td>\n",
              "      <td>REGULAR</td>\n",
              "      <td>951</td>\n",
              "      <td>268231</td>\n",
              "    </tr>\n",
              "    <tr>\n",
              "      <th>568581</th>\n",
              "      <td>1353473</td>\n",
              "      <td>2019013454</td>\n",
              "      <td>Acervo Circulante</td>\n",
              "      <td>Biblioteca Central Zila Mamede</td>\n",
              "      <td>ESPECIAL</td>\n",
              "      <td>997</td>\n",
              "      <td>268233</td>\n",
              "    </tr>\n",
              "    <tr>\n",
              "      <th>568582</th>\n",
              "      <td>1353474</td>\n",
              "      <td>2019012811</td>\n",
              "      <td>Acervo Circulante</td>\n",
              "      <td>Biblioteca Central Zila Mamede</td>\n",
              "      <td>ESPECIAL</td>\n",
              "      <td>987</td>\n",
              "      <td>268234</td>\n",
              "    </tr>\n",
              "    <tr>\n",
              "      <th>568583</th>\n",
              "      <td>1353475</td>\n",
              "      <td>2019013451</td>\n",
              "      <td>Acervo Circulante</td>\n",
              "      <td>Biblioteca Central Zila Mamede</td>\n",
              "      <td>ESPECIAL</td>\n",
              "      <td>764</td>\n",
              "      <td>268235</td>\n",
              "    </tr>\n",
              "    <tr>\n",
              "      <th>568584</th>\n",
              "      <td>1353476</td>\n",
              "      <td>2019012276</td>\n",
              "      <td>Acervo Circulante</td>\n",
              "      <td>Biblioteca Central Zila Mamede</td>\n",
              "      <td>ESPECIAL</td>\n",
              "      <td>962</td>\n",
              "      <td>268236</td>\n",
              "    </tr>\n",
              "  </tbody>\n",
              "</table>\n",
              "<p>546237 rows × 7 columns</p>\n",
              "</div>"
            ],
            "text/plain": [
              "        id_exemplar codigo_barras            colecao  \\\n",
              "index                                                  \n",
              "0                 5       L000003  Acervo Circulante   \n",
              "1                 4       L000002  Acervo Circulante   \n",
              "2                 3       L000001  Acervo Circulante   \n",
              "3                 7       L000114  Acervo Circulante   \n",
              "5                10       L000041  Acervo Circulante   \n",
              "...             ...           ...                ...   \n",
              "568580      1353472    2021011150  Acervo Circulante   \n",
              "568581      1353473    2019013454  Acervo Circulante   \n",
              "568582      1353474    2019012811  Acervo Circulante   \n",
              "568583      1353475    2019013451  Acervo Circulante   \n",
              "568584      1353476    2019012276  Acervo Circulante   \n",
              "\n",
              "                                               biblioteca status_material  \\\n",
              "index                                                                       \n",
              "0                          Biblioteca Central Zila Mamede         REGULAR   \n",
              "1                          Biblioteca Central Zila Mamede         REGULAR   \n",
              "2                          Biblioteca Central Zila Mamede        ESPECIAL   \n",
              "3                          Biblioteca Central Zila Mamede         REGULAR   \n",
              "5                          Biblioteca Central Zila Mamede        ESPECIAL   \n",
              "...                                                   ...             ...   \n",
              "568580  Biblioteca Setorial do Núcleo de Educação da I...         REGULAR   \n",
              "568581                     Biblioteca Central Zila Mamede        ESPECIAL   \n",
              "568582                     Biblioteca Central Zila Mamede        ESPECIAL   \n",
              "568583                     Biblioteca Central Zila Mamede        ESPECIAL   \n",
              "568584                     Biblioteca Central Zila Mamede        ESPECIAL   \n",
              "\n",
              "        localizacao  registro_sistema  \n",
              "index                                  \n",
              "0               694                 1  \n",
              "1               688                 1  \n",
              "2               638                 1  \n",
              "3               616                 5  \n",
              "5               657                15  \n",
              "...             ...               ...  \n",
              "568580          951            268231  \n",
              "568581          997            268233  \n",
              "568582          987            268234  \n",
              "568583          764            268235  \n",
              "568584          962            268236  \n",
              "\n",
              "[546237 rows x 7 columns]"
            ]
          },
          "execution_count": 10,
          "metadata": {},
          "output_type": "execute_result"
        }
      ],
      "source": [
        "dados_exemplares = pd.read_parquet('https://github.com/FranciscoFoz/7_Days_of_Code_Alura-Python-Pandas/raw/main/Dia_1-Importando_dados/Datasets/dados_exemplares.parquet')\n",
        "dados_exemplares"
      ]
    },
    {
      "cell_type": "markdown",
      "metadata": {
        "id": "DhLGXWsWpys8"
      },
      "source": [
        "## Unindo os DataFrames"
      ]
    },
    {
      "cell_type": "code",
      "execution_count": 11,
      "metadata": {
        "colab": {
          "base_uri": "https://localhost:8080/",
          "height": 0
        },
        "id": "mdWWXcKhXOen",
        "outputId": "6b94d09a-8d77-469f-be8c-80b2057dffef"
      },
      "outputs": [
        {
          "data": {
            "text/html": [
              "<div>\n",
              "<style scoped>\n",
              "    .dataframe tbody tr th:only-of-type {\n",
              "        vertical-align: middle;\n",
              "    }\n",
              "\n",
              "    .dataframe tbody tr th {\n",
              "        vertical-align: top;\n",
              "    }\n",
              "\n",
              "    .dataframe thead th {\n",
              "        text-align: right;\n",
              "    }\n",
              "</style>\n",
              "<table border=\"1\" class=\"dataframe\">\n",
              "  <thead>\n",
              "    <tr style=\"text-align: right;\">\n",
              "      <th></th>\n",
              "      <th>id_emprestimo</th>\n",
              "      <th>codigo_barras</th>\n",
              "      <th>data_renovacao</th>\n",
              "      <th>data_emprestimo</th>\n",
              "      <th>data_devolucao</th>\n",
              "      <th>matricula_ou_siape</th>\n",
              "      <th>tipo_vinculo_usuario</th>\n",
              "      <th>id_exemplar</th>\n",
              "      <th>colecao</th>\n",
              "      <th>biblioteca</th>\n",
              "      <th>status_material</th>\n",
              "      <th>localizacao</th>\n",
              "      <th>registro_sistema</th>\n",
              "    </tr>\n",
              "  </thead>\n",
              "  <tbody>\n",
              "    <tr>\n",
              "      <th>0</th>\n",
              "      <td>709686</td>\n",
              "      <td>2006017618</td>\n",
              "      <td>2010/01/26 08:07:01.738000000</td>\n",
              "      <td>2010/01/04 08:08:44.081000000</td>\n",
              "      <td>2010/02/25 07:36:25.800000000</td>\n",
              "      <td>2.008112e+09</td>\n",
              "      <td>ALUNO DE PÓS-GRADUAÇÃO</td>\n",
              "      <td>195347</td>\n",
              "      <td>Acervo Circulante</td>\n",
              "      <td>Biblioteca Setorial Prof. Rodolfo Helinski - E...</td>\n",
              "      <td>REGULAR</td>\n",
              "      <td>640</td>\n",
              "      <td>75019</td>\n",
              "    </tr>\n",
              "    <tr>\n",
              "      <th>1</th>\n",
              "      <td>709687</td>\n",
              "      <td>L184117</td>\n",
              "      <td>2010/01/18 11:07:46.470000000</td>\n",
              "      <td>2010/01/04 08:24:21.284000000</td>\n",
              "      <td>2010/02/03 08:58:45.692000000</td>\n",
              "      <td>2.007211e+08</td>\n",
              "      <td>ALUNO DE GRADUAÇÃO</td>\n",
              "      <td>131639</td>\n",
              "      <td>Acervo Circulante</td>\n",
              "      <td>Biblioteca Central Zila Mamede</td>\n",
              "      <td>REGULAR</td>\n",
              "      <td>609</td>\n",
              "      <td>44494</td>\n",
              "    </tr>\n",
              "    <tr>\n",
              "      <th>2</th>\n",
              "      <td>709688</td>\n",
              "      <td>2007027500</td>\n",
              "      <td>2010/01/19 15:59:26.464000000</td>\n",
              "      <td>2010/01/04 08:27:33.569000000</td>\n",
              "      <td>2010/02/03 13:06:30.662000000</td>\n",
              "      <td>2.009046e+09</td>\n",
              "      <td>ALUNO DE GRADUAÇÃO</td>\n",
              "      <td>225646</td>\n",
              "      <td>Acervo Circulante</td>\n",
              "      <td>Biblioteca Central Zila Mamede</td>\n",
              "      <td>REGULAR</td>\n",
              "      <td>686</td>\n",
              "      <td>91736</td>\n",
              "    </tr>\n",
              "    <tr>\n",
              "      <th>3</th>\n",
              "      <td>709689</td>\n",
              "      <td>L157395</td>\n",
              "      <td>2010/01/19 15:59:26.447000000</td>\n",
              "      <td>2010/01/04 08:27:33.596000000</td>\n",
              "      <td>2010/02/03 13:06:43.125000000</td>\n",
              "      <td>2.009046e+09</td>\n",
              "      <td>ALUNO DE GRADUAÇÃO</td>\n",
              "      <td>57040</td>\n",
              "      <td>Acervo Circulante</td>\n",
              "      <td>Biblioteca Central Zila Mamede</td>\n",
              "      <td>REGULAR</td>\n",
              "      <td>698</td>\n",
              "      <td>20943</td>\n",
              "    </tr>\n",
              "    <tr>\n",
              "      <th>4</th>\n",
              "      <td>709691</td>\n",
              "      <td>2008046357</td>\n",
              "      <td>2010/01/19 11:50:13.404000000</td>\n",
              "      <td>2010/01/04 09:02:30.576000000</td>\n",
              "      <td>2010/02/02 12:13:36.132000000</td>\n",
              "      <td>2.005075e+08</td>\n",
              "      <td>ALUNO DE GRADUAÇÃO</td>\n",
              "      <td>256537</td>\n",
              "      <td>Acervo Circulante</td>\n",
              "      <td>Biblioteca Setorial Bertha Cruz Enders - ­Esco...</td>\n",
              "      <td>REGULAR</td>\n",
              "      <td>645</td>\n",
              "      <td>110273</td>\n",
              "    </tr>\n",
              "    <tr>\n",
              "      <th>...</th>\n",
              "      <td>...</td>\n",
              "      <td>...</td>\n",
              "      <td>...</td>\n",
              "      <td>...</td>\n",
              "      <td>...</td>\n",
              "      <td>...</td>\n",
              "      <td>...</td>\n",
              "      <td>...</td>\n",
              "      <td>...</td>\n",
              "      <td>...</td>\n",
              "      <td>...</td>\n",
              "      <td>...</td>\n",
              "      <td>...</td>\n",
              "    </tr>\n",
              "    <tr>\n",
              "      <th>906407</th>\n",
              "      <td>2988998</td>\n",
              "      <td>2010084076</td>\n",
              "      <td>2020/04/27 23:27:14.132000000</td>\n",
              "      <td>2020/03/17 19:23:11.780000000</td>\n",
              "      <td>2021/08/25 16:18:43.000000000</td>\n",
              "      <td>2.018015e+10</td>\n",
              "      <td>ALUNO DE GRADUAÇÃO</td>\n",
              "      <td>902461</td>\n",
              "      <td>Acervo Circulante</td>\n",
              "      <td>Biblioteca Setorial da Faculdade de Ciências d...</td>\n",
              "      <td>REGULAR</td>\n",
              "      <td>631</td>\n",
              "      <td>124726</td>\n",
              "    </tr>\n",
              "    <tr>\n",
              "      <th>906408</th>\n",
              "      <td>2988999</td>\n",
              "      <td>2011024982</td>\n",
              "      <td>2020/04/27 23:27:14.108000000</td>\n",
              "      <td>2020/03/17 19:23:11.829000000</td>\n",
              "      <td>2021/11/22 14:50:13.000000000</td>\n",
              "      <td>2.018015e+10</td>\n",
              "      <td>ALUNO DE GRADUAÇÃO</td>\n",
              "      <td>932468</td>\n",
              "      <td>Acervo Circulante</td>\n",
              "      <td>Biblioteca Setorial da Faculdade de Ciências d...</td>\n",
              "      <td>REGULAR</td>\n",
              "      <td>667</td>\n",
              "      <td>166412</td>\n",
              "    </tr>\n",
              "    <tr>\n",
              "      <th>906409</th>\n",
              "      <td>2989007</td>\n",
              "      <td>2014069838</td>\n",
              "      <td>2020/03/23 10:42:38.432000000</td>\n",
              "      <td>2020/03/17 19:29:17.897000000</td>\n",
              "      <td>2022/01/20 17:26:19.000000000</td>\n",
              "      <td>2.019005e+10</td>\n",
              "      <td>ALUNO DE GRADUAÇÃO</td>\n",
              "      <td>1317032</td>\n",
              "      <td>Acervo Circulante</td>\n",
              "      <td>Biblioteca Setorial da Faculdade de Ciências d...</td>\n",
              "      <td>REGULAR</td>\n",
              "      <td>626</td>\n",
              "      <td>168065</td>\n",
              "    </tr>\n",
              "    <tr>\n",
              "      <th>906410</th>\n",
              "      <td>2989040</td>\n",
              "      <td>2016025770</td>\n",
              "      <td>2020/04/01 22:25:43.652000000</td>\n",
              "      <td>2020/03/17 20:23:54.966000000</td>\n",
              "      <td>2021/07/07 15:44:35.000000000</td>\n",
              "      <td>2.020009e+10</td>\n",
              "      <td>ALUNO DE GRADUAÇÃO</td>\n",
              "      <td>1245919</td>\n",
              "      <td>Acervo Circulante</td>\n",
              "      <td>Biblioteca Central Zila Mamede</td>\n",
              "      <td>REGULAR</td>\n",
              "      <td>613</td>\n",
              "      <td>45093</td>\n",
              "    </tr>\n",
              "    <tr>\n",
              "      <th>906411</th>\n",
              "      <td>2989064</td>\n",
              "      <td>S023116</td>\n",
              "      <td>2021/07/19 16:17:24.750000000</td>\n",
              "      <td>2020/03/17 21:40:52.879000000</td>\n",
              "      <td>2021/10/18 10:32:30.000000000</td>\n",
              "      <td>2.018001e+10</td>\n",
              "      <td>ALUNO DE GRADUAÇÃO</td>\n",
              "      <td>142132</td>\n",
              "      <td>Acervo Circulante</td>\n",
              "      <td>Biblioteca Central Zila Mamede</td>\n",
              "      <td>REGULAR</td>\n",
              "      <td>671</td>\n",
              "      <td>50152</td>\n",
              "    </tr>\n",
              "  </tbody>\n",
              "</table>\n",
              "<p>906412 rows × 13 columns</p>\n",
              "</div>"
            ],
            "text/plain": [
              "        id_emprestimo codigo_barras                 data_renovacao  \\\n",
              "0              709686    2006017618  2010/01/26 08:07:01.738000000   \n",
              "1              709687       L184117  2010/01/18 11:07:46.470000000   \n",
              "2              709688    2007027500  2010/01/19 15:59:26.464000000   \n",
              "3              709689       L157395  2010/01/19 15:59:26.447000000   \n",
              "4              709691    2008046357  2010/01/19 11:50:13.404000000   \n",
              "...               ...           ...                            ...   \n",
              "906407        2988998    2010084076  2020/04/27 23:27:14.132000000   \n",
              "906408        2988999    2011024982  2020/04/27 23:27:14.108000000   \n",
              "906409        2989007    2014069838  2020/03/23 10:42:38.432000000   \n",
              "906410        2989040    2016025770  2020/04/01 22:25:43.652000000   \n",
              "906411        2989064       S023116  2021/07/19 16:17:24.750000000   \n",
              "\n",
              "                      data_emprestimo                 data_devolucao  \\\n",
              "0       2010/01/04 08:08:44.081000000  2010/02/25 07:36:25.800000000   \n",
              "1       2010/01/04 08:24:21.284000000  2010/02/03 08:58:45.692000000   \n",
              "2       2010/01/04 08:27:33.569000000  2010/02/03 13:06:30.662000000   \n",
              "3       2010/01/04 08:27:33.596000000  2010/02/03 13:06:43.125000000   \n",
              "4       2010/01/04 09:02:30.576000000  2010/02/02 12:13:36.132000000   \n",
              "...                               ...                            ...   \n",
              "906407  2020/03/17 19:23:11.780000000  2021/08/25 16:18:43.000000000   \n",
              "906408  2020/03/17 19:23:11.829000000  2021/11/22 14:50:13.000000000   \n",
              "906409  2020/03/17 19:29:17.897000000  2022/01/20 17:26:19.000000000   \n",
              "906410  2020/03/17 20:23:54.966000000  2021/07/07 15:44:35.000000000   \n",
              "906411  2020/03/17 21:40:52.879000000  2021/10/18 10:32:30.000000000   \n",
              "\n",
              "        matricula_ou_siape    tipo_vinculo_usuario  id_exemplar  \\\n",
              "0             2.008112e+09  ALUNO DE PÓS-GRADUAÇÃO       195347   \n",
              "1             2.007211e+08      ALUNO DE GRADUAÇÃO       131639   \n",
              "2             2.009046e+09      ALUNO DE GRADUAÇÃO       225646   \n",
              "3             2.009046e+09      ALUNO DE GRADUAÇÃO        57040   \n",
              "4             2.005075e+08      ALUNO DE GRADUAÇÃO       256537   \n",
              "...                    ...                     ...          ...   \n",
              "906407        2.018015e+10      ALUNO DE GRADUAÇÃO       902461   \n",
              "906408        2.018015e+10      ALUNO DE GRADUAÇÃO       932468   \n",
              "906409        2.019005e+10      ALUNO DE GRADUAÇÃO      1317032   \n",
              "906410        2.020009e+10      ALUNO DE GRADUAÇÃO      1245919   \n",
              "906411        2.018001e+10      ALUNO DE GRADUAÇÃO       142132   \n",
              "\n",
              "                  colecao                                         biblioteca  \\\n",
              "0       Acervo Circulante  Biblioteca Setorial Prof. Rodolfo Helinski - E...   \n",
              "1       Acervo Circulante                     Biblioteca Central Zila Mamede   \n",
              "2       Acervo Circulante                     Biblioteca Central Zila Mamede   \n",
              "3       Acervo Circulante                     Biblioteca Central Zila Mamede   \n",
              "4       Acervo Circulante  Biblioteca Setorial Bertha Cruz Enders - ­Esco...   \n",
              "...                   ...                                                ...   \n",
              "906407  Acervo Circulante  Biblioteca Setorial da Faculdade de Ciências d...   \n",
              "906408  Acervo Circulante  Biblioteca Setorial da Faculdade de Ciências d...   \n",
              "906409  Acervo Circulante  Biblioteca Setorial da Faculdade de Ciências d...   \n",
              "906410  Acervo Circulante                     Biblioteca Central Zila Mamede   \n",
              "906411  Acervo Circulante                     Biblioteca Central Zila Mamede   \n",
              "\n",
              "       status_material  localizacao  registro_sistema  \n",
              "0              REGULAR          640             75019  \n",
              "1              REGULAR          609             44494  \n",
              "2              REGULAR          686             91736  \n",
              "3              REGULAR          698             20943  \n",
              "4              REGULAR          645            110273  \n",
              "...                ...          ...               ...  \n",
              "906407         REGULAR          631            124726  \n",
              "906408         REGULAR          667            166412  \n",
              "906409         REGULAR          626            168065  \n",
              "906410         REGULAR          613             45093  \n",
              "906411         REGULAR          671             50152  \n",
              "\n",
              "[906412 rows x 13 columns]"
            ]
          },
          "execution_count": 11,
          "metadata": {},
          "output_type": "execute_result"
        }
      ],
      "source": [
        "emprestimos_completo = emprestimos_biblioteca.merge(dados_exemplares)\n",
        "emprestimos_completo"
      ]
    },
    {
      "cell_type": "markdown",
      "metadata": {
        "id": "CKbZ3-0Kowme"
      },
      "source": [
        "#Dia 2 - As primeiras manipulações"
      ]
    },
    {
      "cell_type": "code",
      "execution_count": 12,
      "metadata": {
        "id": "6AZN3rV1ohFY"
      },
      "outputs": [],
      "source": [
        "import pandas as pd"
      ]
    },
    {
      "cell_type": "code",
      "execution_count": 13,
      "metadata": {
        "colab": {
          "base_uri": "https://localhost:8080/",
          "height": 0
        },
        "id": "Het6kwUNqZr4",
        "outputId": "0448487c-975f-44dd-f8ca-dca96e656925"
      },
      "outputs": [
        {
          "data": {
            "text/html": [
              "<div>\n",
              "<style scoped>\n",
              "    .dataframe tbody tr th:only-of-type {\n",
              "        vertical-align: middle;\n",
              "    }\n",
              "\n",
              "    .dataframe tbody tr th {\n",
              "        vertical-align: top;\n",
              "    }\n",
              "\n",
              "    .dataframe thead th {\n",
              "        text-align: right;\n",
              "    }\n",
              "</style>\n",
              "<table border=\"1\" class=\"dataframe\">\n",
              "  <thead>\n",
              "    <tr style=\"text-align: right;\">\n",
              "      <th></th>\n",
              "      <th>id_emprestimo</th>\n",
              "      <th>codigo_barras</th>\n",
              "      <th>data_renovacao</th>\n",
              "      <th>data_emprestimo</th>\n",
              "      <th>data_devolucao</th>\n",
              "      <th>matricula_ou_siape</th>\n",
              "      <th>tipo_vinculo_usuario</th>\n",
              "      <th>id_exemplar</th>\n",
              "      <th>colecao</th>\n",
              "      <th>biblioteca</th>\n",
              "      <th>status_material</th>\n",
              "      <th>localizacao</th>\n",
              "      <th>registro_sistema</th>\n",
              "    </tr>\n",
              "  </thead>\n",
              "  <tbody>\n",
              "    <tr>\n",
              "      <th>0</th>\n",
              "      <td>709686</td>\n",
              "      <td>2006017618</td>\n",
              "      <td>2010/01/26 08:07:01.738000000</td>\n",
              "      <td>2010/01/04 08:08:44.081000000</td>\n",
              "      <td>2010/02/25 07:36:25.800000000</td>\n",
              "      <td>2.008112e+09</td>\n",
              "      <td>ALUNO DE PÓS-GRADUAÇÃO</td>\n",
              "      <td>195347</td>\n",
              "      <td>Acervo Circulante</td>\n",
              "      <td>Biblioteca Setorial Prof. Rodolfo Helinski - E...</td>\n",
              "      <td>REGULAR</td>\n",
              "      <td>640</td>\n",
              "      <td>75019</td>\n",
              "    </tr>\n",
              "    <tr>\n",
              "      <th>1</th>\n",
              "      <td>709687</td>\n",
              "      <td>L184117</td>\n",
              "      <td>2010/01/18 11:07:46.470000000</td>\n",
              "      <td>2010/01/04 08:24:21.284000000</td>\n",
              "      <td>2010/02/03 08:58:45.692000000</td>\n",
              "      <td>2.007211e+08</td>\n",
              "      <td>ALUNO DE GRADUAÇÃO</td>\n",
              "      <td>131639</td>\n",
              "      <td>Acervo Circulante</td>\n",
              "      <td>Biblioteca Central Zila Mamede</td>\n",
              "      <td>REGULAR</td>\n",
              "      <td>609</td>\n",
              "      <td>44494</td>\n",
              "    </tr>\n",
              "    <tr>\n",
              "      <th>2</th>\n",
              "      <td>709688</td>\n",
              "      <td>2007027500</td>\n",
              "      <td>2010/01/19 15:59:26.464000000</td>\n",
              "      <td>2010/01/04 08:27:33.569000000</td>\n",
              "      <td>2010/02/03 13:06:30.662000000</td>\n",
              "      <td>2.009046e+09</td>\n",
              "      <td>ALUNO DE GRADUAÇÃO</td>\n",
              "      <td>225646</td>\n",
              "      <td>Acervo Circulante</td>\n",
              "      <td>Biblioteca Central Zila Mamede</td>\n",
              "      <td>REGULAR</td>\n",
              "      <td>686</td>\n",
              "      <td>91736</td>\n",
              "    </tr>\n",
              "    <tr>\n",
              "      <th>3</th>\n",
              "      <td>709689</td>\n",
              "      <td>L157395</td>\n",
              "      <td>2010/01/19 15:59:26.447000000</td>\n",
              "      <td>2010/01/04 08:27:33.596000000</td>\n",
              "      <td>2010/02/03 13:06:43.125000000</td>\n",
              "      <td>2.009046e+09</td>\n",
              "      <td>ALUNO DE GRADUAÇÃO</td>\n",
              "      <td>57040</td>\n",
              "      <td>Acervo Circulante</td>\n",
              "      <td>Biblioteca Central Zila Mamede</td>\n",
              "      <td>REGULAR</td>\n",
              "      <td>698</td>\n",
              "      <td>20943</td>\n",
              "    </tr>\n",
              "    <tr>\n",
              "      <th>4</th>\n",
              "      <td>709691</td>\n",
              "      <td>2008046357</td>\n",
              "      <td>2010/01/19 11:50:13.404000000</td>\n",
              "      <td>2010/01/04 09:02:30.576000000</td>\n",
              "      <td>2010/02/02 12:13:36.132000000</td>\n",
              "      <td>2.005075e+08</td>\n",
              "      <td>ALUNO DE GRADUAÇÃO</td>\n",
              "      <td>256537</td>\n",
              "      <td>Acervo Circulante</td>\n",
              "      <td>Biblioteca Setorial Bertha Cruz Enders - ­Esco...</td>\n",
              "      <td>REGULAR</td>\n",
              "      <td>645</td>\n",
              "      <td>110273</td>\n",
              "    </tr>\n",
              "  </tbody>\n",
              "</table>\n",
              "</div>"
            ],
            "text/plain": [
              "   id_emprestimo codigo_barras                 data_renovacao  \\\n",
              "0         709686    2006017618  2010/01/26 08:07:01.738000000   \n",
              "1         709687       L184117  2010/01/18 11:07:46.470000000   \n",
              "2         709688    2007027500  2010/01/19 15:59:26.464000000   \n",
              "3         709689       L157395  2010/01/19 15:59:26.447000000   \n",
              "4         709691    2008046357  2010/01/19 11:50:13.404000000   \n",
              "\n",
              "                 data_emprestimo                 data_devolucao  \\\n",
              "0  2010/01/04 08:08:44.081000000  2010/02/25 07:36:25.800000000   \n",
              "1  2010/01/04 08:24:21.284000000  2010/02/03 08:58:45.692000000   \n",
              "2  2010/01/04 08:27:33.569000000  2010/02/03 13:06:30.662000000   \n",
              "3  2010/01/04 08:27:33.596000000  2010/02/03 13:06:43.125000000   \n",
              "4  2010/01/04 09:02:30.576000000  2010/02/02 12:13:36.132000000   \n",
              "\n",
              "   matricula_ou_siape    tipo_vinculo_usuario  id_exemplar            colecao  \\\n",
              "0        2.008112e+09  ALUNO DE PÓS-GRADUAÇÃO       195347  Acervo Circulante   \n",
              "1        2.007211e+08      ALUNO DE GRADUAÇÃO       131639  Acervo Circulante   \n",
              "2        2.009046e+09      ALUNO DE GRADUAÇÃO       225646  Acervo Circulante   \n",
              "3        2.009046e+09      ALUNO DE GRADUAÇÃO        57040  Acervo Circulante   \n",
              "4        2.005075e+08      ALUNO DE GRADUAÇÃO       256537  Acervo Circulante   \n",
              "\n",
              "                                          biblioteca status_material  \\\n",
              "0  Biblioteca Setorial Prof. Rodolfo Helinski - E...         REGULAR   \n",
              "1                     Biblioteca Central Zila Mamede         REGULAR   \n",
              "2                     Biblioteca Central Zila Mamede         REGULAR   \n",
              "3                     Biblioteca Central Zila Mamede         REGULAR   \n",
              "4  Biblioteca Setorial Bertha Cruz Enders - ­Esco...         REGULAR   \n",
              "\n",
              "   localizacao  registro_sistema  \n",
              "0          640             75019  \n",
              "1          609             44494  \n",
              "2          686             91736  \n",
              "3          698             20943  \n",
              "4          645            110273  "
            ]
          },
          "execution_count": 13,
          "metadata": {},
          "output_type": "execute_result"
        }
      ],
      "source": [
        "emprestimos_completo.head()"
      ]
    },
    {
      "cell_type": "markdown",
      "metadata": {
        "id": "97KT_3pTtb1y"
      },
      "source": [
        "## Atribuir a coluna com nomenclatura da CDU"
      ]
    },
    {
      "cell_type": "code",
      "execution_count": 14,
      "metadata": {
        "id": "tijX3YN9rGwC"
      },
      "outputs": [],
      "source": [
        "CDU_lista = []\n",
        "for CDU in emprestimos_completo['localizacao']:\n",
        "  if(CDU < 100):\n",
        "    CDU_lista.append('Generalidades')\n",
        "  elif(CDU < 200):\n",
        "    CDU_lista.append('Filosofia e psicologia')\n",
        "  elif(CDU < 300):\n",
        "    CDU_lista.append('Religião')\n",
        "  elif(CDU < 400):\n",
        "    CDU_lista.append('Ciências sociais')\n",
        "  elif(CDU < 500):\n",
        "    CDU_lista.append('Classe vaga')\n",
        "  elif(CDU < 600):\n",
        "    CDU_lista.append('Matemática e ciências naturais')\n",
        "  elif(CDU < 700):\n",
        "    CDU_lista.append('Ciências aplicadas')\n",
        "  elif(CDU < 800):\n",
        "    CDU_lista.append('Belas artes')\n",
        "  elif(CDU < 900):\n",
        "    CDU_lista.append('Linguagem')\n",
        "  else:\n",
        "    CDU_lista.append('Geografia. Biografia. História.')\n",
        "\n",
        "emprestimos_completo['CDU_geral'] = CDU_lista"
      ]
    },
    {
      "cell_type": "code",
      "execution_count": 15,
      "metadata": {
        "colab": {
          "base_uri": "https://localhost:8080/",
          "height": 0
        },
        "id": "Gq5c0v2irGrP",
        "outputId": "e5809f16-a9b4-493b-b680-b4c26b82f4c6"
      },
      "outputs": [
        {
          "data": {
            "text/html": [
              "<div>\n",
              "<style scoped>\n",
              "    .dataframe tbody tr th:only-of-type {\n",
              "        vertical-align: middle;\n",
              "    }\n",
              "\n",
              "    .dataframe tbody tr th {\n",
              "        vertical-align: top;\n",
              "    }\n",
              "\n",
              "    .dataframe thead th {\n",
              "        text-align: right;\n",
              "    }\n",
              "</style>\n",
              "<table border=\"1\" class=\"dataframe\">\n",
              "  <thead>\n",
              "    <tr style=\"text-align: right;\">\n",
              "      <th></th>\n",
              "      <th>id_emprestimo</th>\n",
              "      <th>codigo_barras</th>\n",
              "      <th>data_renovacao</th>\n",
              "      <th>data_emprestimo</th>\n",
              "      <th>data_devolucao</th>\n",
              "      <th>matricula_ou_siape</th>\n",
              "      <th>tipo_vinculo_usuario</th>\n",
              "      <th>id_exemplar</th>\n",
              "      <th>colecao</th>\n",
              "      <th>biblioteca</th>\n",
              "      <th>status_material</th>\n",
              "      <th>localizacao</th>\n",
              "      <th>registro_sistema</th>\n",
              "      <th>CDU_geral</th>\n",
              "    </tr>\n",
              "  </thead>\n",
              "  <tbody>\n",
              "    <tr>\n",
              "      <th>0</th>\n",
              "      <td>709686</td>\n",
              "      <td>2006017618</td>\n",
              "      <td>2010/01/26 08:07:01.738000000</td>\n",
              "      <td>2010/01/04 08:08:44.081000000</td>\n",
              "      <td>2010/02/25 07:36:25.800000000</td>\n",
              "      <td>2.008112e+09</td>\n",
              "      <td>ALUNO DE PÓS-GRADUAÇÃO</td>\n",
              "      <td>195347</td>\n",
              "      <td>Acervo Circulante</td>\n",
              "      <td>Biblioteca Setorial Prof. Rodolfo Helinski - E...</td>\n",
              "      <td>REGULAR</td>\n",
              "      <td>640</td>\n",
              "      <td>75019</td>\n",
              "      <td>Ciências aplicadas</td>\n",
              "    </tr>\n",
              "    <tr>\n",
              "      <th>1</th>\n",
              "      <td>709687</td>\n",
              "      <td>L184117</td>\n",
              "      <td>2010/01/18 11:07:46.470000000</td>\n",
              "      <td>2010/01/04 08:24:21.284000000</td>\n",
              "      <td>2010/02/03 08:58:45.692000000</td>\n",
              "      <td>2.007211e+08</td>\n",
              "      <td>ALUNO DE GRADUAÇÃO</td>\n",
              "      <td>131639</td>\n",
              "      <td>Acervo Circulante</td>\n",
              "      <td>Biblioteca Central Zila Mamede</td>\n",
              "      <td>REGULAR</td>\n",
              "      <td>609</td>\n",
              "      <td>44494</td>\n",
              "      <td>Ciências aplicadas</td>\n",
              "    </tr>\n",
              "    <tr>\n",
              "      <th>2</th>\n",
              "      <td>709688</td>\n",
              "      <td>2007027500</td>\n",
              "      <td>2010/01/19 15:59:26.464000000</td>\n",
              "      <td>2010/01/04 08:27:33.569000000</td>\n",
              "      <td>2010/02/03 13:06:30.662000000</td>\n",
              "      <td>2.009046e+09</td>\n",
              "      <td>ALUNO DE GRADUAÇÃO</td>\n",
              "      <td>225646</td>\n",
              "      <td>Acervo Circulante</td>\n",
              "      <td>Biblioteca Central Zila Mamede</td>\n",
              "      <td>REGULAR</td>\n",
              "      <td>686</td>\n",
              "      <td>91736</td>\n",
              "      <td>Ciências aplicadas</td>\n",
              "    </tr>\n",
              "    <tr>\n",
              "      <th>3</th>\n",
              "      <td>709689</td>\n",
              "      <td>L157395</td>\n",
              "      <td>2010/01/19 15:59:26.447000000</td>\n",
              "      <td>2010/01/04 08:27:33.596000000</td>\n",
              "      <td>2010/02/03 13:06:43.125000000</td>\n",
              "      <td>2.009046e+09</td>\n",
              "      <td>ALUNO DE GRADUAÇÃO</td>\n",
              "      <td>57040</td>\n",
              "      <td>Acervo Circulante</td>\n",
              "      <td>Biblioteca Central Zila Mamede</td>\n",
              "      <td>REGULAR</td>\n",
              "      <td>698</td>\n",
              "      <td>20943</td>\n",
              "      <td>Ciências aplicadas</td>\n",
              "    </tr>\n",
              "    <tr>\n",
              "      <th>4</th>\n",
              "      <td>709691</td>\n",
              "      <td>2008046357</td>\n",
              "      <td>2010/01/19 11:50:13.404000000</td>\n",
              "      <td>2010/01/04 09:02:30.576000000</td>\n",
              "      <td>2010/02/02 12:13:36.132000000</td>\n",
              "      <td>2.005075e+08</td>\n",
              "      <td>ALUNO DE GRADUAÇÃO</td>\n",
              "      <td>256537</td>\n",
              "      <td>Acervo Circulante</td>\n",
              "      <td>Biblioteca Setorial Bertha Cruz Enders - ­Esco...</td>\n",
              "      <td>REGULAR</td>\n",
              "      <td>645</td>\n",
              "      <td>110273</td>\n",
              "      <td>Ciências aplicadas</td>\n",
              "    </tr>\n",
              "  </tbody>\n",
              "</table>\n",
              "</div>"
            ],
            "text/plain": [
              "   id_emprestimo codigo_barras                 data_renovacao  \\\n",
              "0         709686    2006017618  2010/01/26 08:07:01.738000000   \n",
              "1         709687       L184117  2010/01/18 11:07:46.470000000   \n",
              "2         709688    2007027500  2010/01/19 15:59:26.464000000   \n",
              "3         709689       L157395  2010/01/19 15:59:26.447000000   \n",
              "4         709691    2008046357  2010/01/19 11:50:13.404000000   \n",
              "\n",
              "                 data_emprestimo                 data_devolucao  \\\n",
              "0  2010/01/04 08:08:44.081000000  2010/02/25 07:36:25.800000000   \n",
              "1  2010/01/04 08:24:21.284000000  2010/02/03 08:58:45.692000000   \n",
              "2  2010/01/04 08:27:33.569000000  2010/02/03 13:06:30.662000000   \n",
              "3  2010/01/04 08:27:33.596000000  2010/02/03 13:06:43.125000000   \n",
              "4  2010/01/04 09:02:30.576000000  2010/02/02 12:13:36.132000000   \n",
              "\n",
              "   matricula_ou_siape    tipo_vinculo_usuario  id_exemplar            colecao  \\\n",
              "0        2.008112e+09  ALUNO DE PÓS-GRADUAÇÃO       195347  Acervo Circulante   \n",
              "1        2.007211e+08      ALUNO DE GRADUAÇÃO       131639  Acervo Circulante   \n",
              "2        2.009046e+09      ALUNO DE GRADUAÇÃO       225646  Acervo Circulante   \n",
              "3        2.009046e+09      ALUNO DE GRADUAÇÃO        57040  Acervo Circulante   \n",
              "4        2.005075e+08      ALUNO DE GRADUAÇÃO       256537  Acervo Circulante   \n",
              "\n",
              "                                          biblioteca status_material  \\\n",
              "0  Biblioteca Setorial Prof. Rodolfo Helinski - E...         REGULAR   \n",
              "1                     Biblioteca Central Zila Mamede         REGULAR   \n",
              "2                     Biblioteca Central Zila Mamede         REGULAR   \n",
              "3                     Biblioteca Central Zila Mamede         REGULAR   \n",
              "4  Biblioteca Setorial Bertha Cruz Enders - ­Esco...         REGULAR   \n",
              "\n",
              "   localizacao  registro_sistema           CDU_geral  \n",
              "0          640             75019  Ciências aplicadas  \n",
              "1          609             44494  Ciências aplicadas  \n",
              "2          686             91736  Ciências aplicadas  \n",
              "3          698             20943  Ciências aplicadas  \n",
              "4          645            110273  Ciências aplicadas  "
            ]
          },
          "execution_count": 15,
          "metadata": {},
          "output_type": "execute_result"
        }
      ],
      "source": [
        "emprestimos_completo.head()"
      ]
    },
    {
      "cell_type": "markdown",
      "metadata": {
        "id": "vCB_7X4hzQNx"
      },
      "source": [
        "## Excluir coluna \"registro_sistema\""
      ]
    },
    {
      "cell_type": "code",
      "execution_count": 16,
      "metadata": {
        "id": "285nrWeMy_1L"
      },
      "outputs": [],
      "source": [
        "emprestimos_completo.drop(columns=['registro_sistema'],inplace=True)"
      ]
    },
    {
      "cell_type": "markdown",
      "metadata": {
        "id": "FXovmqetP6Wm"
      },
      "source": [
        "## Modificar tipo de dado da matrícula"
      ]
    },
    {
      "cell_type": "code",
      "execution_count": 17,
      "metadata": {
        "id": "22X_D7jbrGym"
      },
      "outputs": [],
      "source": [
        "emprestimos_completo['matricula_ou_siape'] = emprestimos_completo['matricula_ou_siape'].astype('string')"
      ]
    },
    {
      "cell_type": "markdown",
      "metadata": {
        "id": "5u9K-ZqMrZHM"
      },
      "source": [
        "# Dia 3 - Explorando o Datetime dos dados\n"
      ]
    },
    {
      "cell_type": "code",
      "execution_count": 18,
      "metadata": {
        "id": "6oN4EXiZrQYR"
      },
      "outputs": [],
      "source": [
        "import pandas as pd\n",
        "import seaborn as sns\n",
        "import matplotlib.ticker as ticker\n",
        "import matplotlib.pyplot as plt\n"
      ]
    },
    {
      "cell_type": "code",
      "execution_count": 19,
      "metadata": {
        "colab": {
          "base_uri": "https://localhost:8080/",
          "height": 0
        },
        "id": "uDO4pCayreXO",
        "outputId": "2d4a82b6-c322-4f72-c2e9-5f020b169bcf"
      },
      "outputs": [
        {
          "data": {
            "text/html": [
              "<div>\n",
              "<style scoped>\n",
              "    .dataframe tbody tr th:only-of-type {\n",
              "        vertical-align: middle;\n",
              "    }\n",
              "\n",
              "    .dataframe tbody tr th {\n",
              "        vertical-align: top;\n",
              "    }\n",
              "\n",
              "    .dataframe thead th {\n",
              "        text-align: right;\n",
              "    }\n",
              "</style>\n",
              "<table border=\"1\" class=\"dataframe\">\n",
              "  <thead>\n",
              "    <tr style=\"text-align: right;\">\n",
              "      <th></th>\n",
              "      <th>id_emprestimo</th>\n",
              "      <th>codigo_barras</th>\n",
              "      <th>data_renovacao</th>\n",
              "      <th>data_emprestimo</th>\n",
              "      <th>data_devolucao</th>\n",
              "      <th>matricula_ou_siape</th>\n",
              "      <th>tipo_vinculo_usuario</th>\n",
              "      <th>id_exemplar</th>\n",
              "      <th>colecao</th>\n",
              "      <th>biblioteca</th>\n",
              "      <th>status_material</th>\n",
              "      <th>localizacao</th>\n",
              "      <th>CDU_geral</th>\n",
              "    </tr>\n",
              "  </thead>\n",
              "  <tbody>\n",
              "    <tr>\n",
              "      <th>0</th>\n",
              "      <td>709686</td>\n",
              "      <td>2006017618</td>\n",
              "      <td>2010/01/26 08:07:01.738000000</td>\n",
              "      <td>2010/01/04 08:08:44.081000000</td>\n",
              "      <td>2010/02/25 07:36:25.800000000</td>\n",
              "      <td>2008112114.0</td>\n",
              "      <td>ALUNO DE PÓS-GRADUAÇÃO</td>\n",
              "      <td>195347</td>\n",
              "      <td>Acervo Circulante</td>\n",
              "      <td>Biblioteca Setorial Prof. Rodolfo Helinski - E...</td>\n",
              "      <td>REGULAR</td>\n",
              "      <td>640</td>\n",
              "      <td>Ciências aplicadas</td>\n",
              "    </tr>\n",
              "    <tr>\n",
              "      <th>1</th>\n",
              "      <td>709687</td>\n",
              "      <td>L184117</td>\n",
              "      <td>2010/01/18 11:07:46.470000000</td>\n",
              "      <td>2010/01/04 08:24:21.284000000</td>\n",
              "      <td>2010/02/03 08:58:45.692000000</td>\n",
              "      <td>200721119.0</td>\n",
              "      <td>ALUNO DE GRADUAÇÃO</td>\n",
              "      <td>131639</td>\n",
              "      <td>Acervo Circulante</td>\n",
              "      <td>Biblioteca Central Zila Mamede</td>\n",
              "      <td>REGULAR</td>\n",
              "      <td>609</td>\n",
              "      <td>Ciências aplicadas</td>\n",
              "    </tr>\n",
              "    <tr>\n",
              "      <th>2</th>\n",
              "      <td>709688</td>\n",
              "      <td>2007027500</td>\n",
              "      <td>2010/01/19 15:59:26.464000000</td>\n",
              "      <td>2010/01/04 08:27:33.569000000</td>\n",
              "      <td>2010/02/03 13:06:30.662000000</td>\n",
              "      <td>2009045971.0</td>\n",
              "      <td>ALUNO DE GRADUAÇÃO</td>\n",
              "      <td>225646</td>\n",
              "      <td>Acervo Circulante</td>\n",
              "      <td>Biblioteca Central Zila Mamede</td>\n",
              "      <td>REGULAR</td>\n",
              "      <td>686</td>\n",
              "      <td>Ciências aplicadas</td>\n",
              "    </tr>\n",
              "    <tr>\n",
              "      <th>3</th>\n",
              "      <td>709689</td>\n",
              "      <td>L157395</td>\n",
              "      <td>2010/01/19 15:59:26.447000000</td>\n",
              "      <td>2010/01/04 08:27:33.596000000</td>\n",
              "      <td>2010/02/03 13:06:43.125000000</td>\n",
              "      <td>2009045971.0</td>\n",
              "      <td>ALUNO DE GRADUAÇÃO</td>\n",
              "      <td>57040</td>\n",
              "      <td>Acervo Circulante</td>\n",
              "      <td>Biblioteca Central Zila Mamede</td>\n",
              "      <td>REGULAR</td>\n",
              "      <td>698</td>\n",
              "      <td>Ciências aplicadas</td>\n",
              "    </tr>\n",
              "    <tr>\n",
              "      <th>4</th>\n",
              "      <td>709691</td>\n",
              "      <td>2008046357</td>\n",
              "      <td>2010/01/19 11:50:13.404000000</td>\n",
              "      <td>2010/01/04 09:02:30.576000000</td>\n",
              "      <td>2010/02/02 12:13:36.132000000</td>\n",
              "      <td>200507453.0</td>\n",
              "      <td>ALUNO DE GRADUAÇÃO</td>\n",
              "      <td>256537</td>\n",
              "      <td>Acervo Circulante</td>\n",
              "      <td>Biblioteca Setorial Bertha Cruz Enders - ­Esco...</td>\n",
              "      <td>REGULAR</td>\n",
              "      <td>645</td>\n",
              "      <td>Ciências aplicadas</td>\n",
              "    </tr>\n",
              "  </tbody>\n",
              "</table>\n",
              "</div>"
            ],
            "text/plain": [
              "   id_emprestimo codigo_barras                 data_renovacao  \\\n",
              "0         709686    2006017618  2010/01/26 08:07:01.738000000   \n",
              "1         709687       L184117  2010/01/18 11:07:46.470000000   \n",
              "2         709688    2007027500  2010/01/19 15:59:26.464000000   \n",
              "3         709689       L157395  2010/01/19 15:59:26.447000000   \n",
              "4         709691    2008046357  2010/01/19 11:50:13.404000000   \n",
              "\n",
              "                 data_emprestimo                 data_devolucao  \\\n",
              "0  2010/01/04 08:08:44.081000000  2010/02/25 07:36:25.800000000   \n",
              "1  2010/01/04 08:24:21.284000000  2010/02/03 08:58:45.692000000   \n",
              "2  2010/01/04 08:27:33.569000000  2010/02/03 13:06:30.662000000   \n",
              "3  2010/01/04 08:27:33.596000000  2010/02/03 13:06:43.125000000   \n",
              "4  2010/01/04 09:02:30.576000000  2010/02/02 12:13:36.132000000   \n",
              "\n",
              "  matricula_ou_siape    tipo_vinculo_usuario  id_exemplar            colecao  \\\n",
              "0       2008112114.0  ALUNO DE PÓS-GRADUAÇÃO       195347  Acervo Circulante   \n",
              "1        200721119.0      ALUNO DE GRADUAÇÃO       131639  Acervo Circulante   \n",
              "2       2009045971.0      ALUNO DE GRADUAÇÃO       225646  Acervo Circulante   \n",
              "3       2009045971.0      ALUNO DE GRADUAÇÃO        57040  Acervo Circulante   \n",
              "4        200507453.0      ALUNO DE GRADUAÇÃO       256537  Acervo Circulante   \n",
              "\n",
              "                                          biblioteca status_material  \\\n",
              "0  Biblioteca Setorial Prof. Rodolfo Helinski - E...         REGULAR   \n",
              "1                     Biblioteca Central Zila Mamede         REGULAR   \n",
              "2                     Biblioteca Central Zila Mamede         REGULAR   \n",
              "3                     Biblioteca Central Zila Mamede         REGULAR   \n",
              "4  Biblioteca Setorial Bertha Cruz Enders - ­Esco...         REGULAR   \n",
              "\n",
              "   localizacao           CDU_geral  \n",
              "0          640  Ciências aplicadas  \n",
              "1          609  Ciências aplicadas  \n",
              "2          686  Ciências aplicadas  \n",
              "3          698  Ciências aplicadas  \n",
              "4          645  Ciências aplicadas  "
            ]
          },
          "execution_count": 19,
          "metadata": {},
          "output_type": "execute_result"
        }
      ],
      "source": [
        "emprestimos_completo.head()"
      ]
    },
    {
      "cell_type": "markdown",
      "metadata": {
        "id": "Mq7v6mJRQrDK"
      },
      "source": [
        "## Verificando a relação entre empréstimo e empréstimo de exemplar"
      ]
    },
    {
      "cell_type": "code",
      "execution_count": 20,
      "metadata": {
        "colab": {
          "base_uri": "https://localhost:8080/"
        },
        "id": "SneQvYj1FKR-",
        "outputId": "7f8c5f2b-ca99-44f1-de84-196d642137ad"
      },
      "outputs": [
        {
          "data": {
            "text/plain": [
              "id_emprestimo\n",
              "10114792    3\n",
              "10240112    3\n",
              "1752337     3\n",
              "1775991     3\n",
              "1987946     3\n",
              "           ..\n",
              "1473630     1\n",
              "1473631     1\n",
              "1473632     1\n",
              "1473633     1\n",
              "2989064     1\n",
              "Name: count, Length: 904866, dtype: int64"
            ]
          },
          "execution_count": 20,
          "metadata": {},
          "output_type": "execute_result"
        }
      ],
      "source": [
        "emprestimos_completo['id_emprestimo'].value_counts()\n"
      ]
    },
    {
      "cell_type": "code",
      "execution_count": 21,
      "metadata": {
        "colab": {
          "base_uri": "https://localhost:8080/",
          "height": 0
        },
        "id": "Z2Mysz1dFKNW",
        "outputId": "d934d768-4aad-4e95-926e-2a4cd5055e3b"
      },
      "outputs": [
        {
          "data": {
            "text/html": [
              "<div>\n",
              "<style scoped>\n",
              "    .dataframe tbody tr th:only-of-type {\n",
              "        vertical-align: middle;\n",
              "    }\n",
              "\n",
              "    .dataframe tbody tr th {\n",
              "        vertical-align: top;\n",
              "    }\n",
              "\n",
              "    .dataframe thead th {\n",
              "        text-align: right;\n",
              "    }\n",
              "</style>\n",
              "<table border=\"1\" class=\"dataframe\">\n",
              "  <thead>\n",
              "    <tr style=\"text-align: right;\">\n",
              "      <th></th>\n",
              "      <th>id_emprestimo</th>\n",
              "      <th>codigo_barras</th>\n",
              "      <th>data_renovacao</th>\n",
              "      <th>data_emprestimo</th>\n",
              "      <th>data_devolucao</th>\n",
              "      <th>matricula_ou_siape</th>\n",
              "      <th>tipo_vinculo_usuario</th>\n",
              "      <th>id_exemplar</th>\n",
              "      <th>colecao</th>\n",
              "      <th>biblioteca</th>\n",
              "      <th>status_material</th>\n",
              "      <th>localizacao</th>\n",
              "      <th>CDU_geral</th>\n",
              "    </tr>\n",
              "  </thead>\n",
              "  <tbody>\n",
              "  </tbody>\n",
              "</table>\n",
              "</div>"
            ],
            "text/plain": [
              "Empty DataFrame\n",
              "Columns: [id_emprestimo, codigo_barras, data_renovacao, data_emprestimo, data_devolucao, matricula_ou_siape, tipo_vinculo_usuario, id_exemplar, colecao, biblioteca, status_material, localizacao, CDU_geral]\n",
              "Index: []"
            ]
          },
          "execution_count": 21,
          "metadata": {},
          "output_type": "execute_result"
        }
      ],
      "source": [
        "emprestimos_completo.loc[emprestimos_completo['id_emprestimo']==2560028]"
      ]
    },
    {
      "cell_type": "markdown",
      "metadata": {
        "id": "Qz11nvdKQzI_"
      },
      "source": [
        "Note que o \"id_emprestimo\" é cada empréstimo realizado que pode ter 1 ou mais exemplares. \n",
        "\n",
        "Portando cada linha é o empréstimo de cada exemplar."
      ]
    },
    {
      "cell_type": "markdown",
      "metadata": {
        "id": "Nl7bEhMnMNkx"
      },
      "source": [
        "### Quantos empréstimos foram realizados ao total?"
      ]
    },
    {
      "cell_type": "code",
      "execution_count": 22,
      "metadata": {
        "colab": {
          "base_uri": "https://localhost:8080/"
        },
        "id": "vObWihPkFVUj",
        "outputId": "3d815c5c-fb3d-4cf5-fb20-460024c57fe6"
      },
      "outputs": [
        {
          "data": {
            "text/plain": [
              "904866"
            ]
          },
          "execution_count": 22,
          "metadata": {},
          "output_type": "execute_result"
        }
      ],
      "source": [
        "emprestimos = len(emprestimos_completo['id_emprestimo'].drop_duplicates())\n",
        "emprestimos"
      ]
    },
    {
      "cell_type": "markdown",
      "metadata": {
        "id": "emrcurjLFXPt"
      },
      "source": [
        "### Quantos exemplares foram emprestados ao total ?"
      ]
    },
    {
      "cell_type": "code",
      "execution_count": 23,
      "metadata": {
        "colab": {
          "base_uri": "https://localhost:8080/"
        },
        "id": "8zdq9DXJFVP-",
        "outputId": "7dfa75b6-2278-48c0-e458-64de8883b708"
      },
      "outputs": [
        {
          "data": {
            "text/plain": [
              "906412"
            ]
          },
          "execution_count": 23,
          "metadata": {},
          "output_type": "execute_result"
        }
      ],
      "source": [
        "exemplares = len(emprestimos_completo)\n",
        "exemplares"
      ]
    },
    {
      "cell_type": "markdown",
      "metadata": {
        "id": "uFNkSth2Fd2M"
      },
      "source": [
        "## Quantidade de exemplares emprestados por ano"
      ]
    },
    {
      "cell_type": "code",
      "execution_count": 24,
      "metadata": {
        "colab": {
          "base_uri": "https://localhost:8080/",
          "height": 0
        },
        "id": "39317q7jFVMm",
        "outputId": "145228d5-150b-4788-cfab-041626fe77fa"
      },
      "outputs": [
        {
          "data": {
            "text/html": [
              "<div>\n",
              "<style scoped>\n",
              "    .dataframe tbody tr th:only-of-type {\n",
              "        vertical-align: middle;\n",
              "    }\n",
              "\n",
              "    .dataframe tbody tr th {\n",
              "        vertical-align: top;\n",
              "    }\n",
              "\n",
              "    .dataframe thead th {\n",
              "        text-align: right;\n",
              "    }\n",
              "</style>\n",
              "<table border=\"1\" class=\"dataframe\">\n",
              "  <thead>\n",
              "    <tr style=\"text-align: right;\">\n",
              "      <th></th>\n",
              "      <th>data</th>\n",
              "      <th>quantidade</th>\n",
              "    </tr>\n",
              "  </thead>\n",
              "  <tbody>\n",
              "    <tr>\n",
              "      <th>0</th>\n",
              "      <td>2017-09-20 16:47:09.285</td>\n",
              "      <td>3</td>\n",
              "    </tr>\n",
              "    <tr>\n",
              "      <th>1</th>\n",
              "      <td>2015-05-05 20:37:19.551</td>\n",
              "      <td>3</td>\n",
              "    </tr>\n",
              "    <tr>\n",
              "      <th>2</th>\n",
              "      <td>2018-11-22 18:28:01.619</td>\n",
              "      <td>3</td>\n",
              "    </tr>\n",
              "    <tr>\n",
              "      <th>3</th>\n",
              "      <td>2017-11-06 19:52:32.782</td>\n",
              "      <td>3</td>\n",
              "    </tr>\n",
              "    <tr>\n",
              "      <th>4</th>\n",
              "      <td>2014-05-12 09:56:18.787</td>\n",
              "      <td>3</td>\n",
              "    </tr>\n",
              "    <tr>\n",
              "      <th>...</th>\n",
              "      <td>...</td>\n",
              "      <td>...</td>\n",
              "    </tr>\n",
              "    <tr>\n",
              "      <th>904856</th>\n",
              "      <td>2013-04-09 09:20:03.491</td>\n",
              "      <td>1</td>\n",
              "    </tr>\n",
              "    <tr>\n",
              "      <th>904857</th>\n",
              "      <td>2013-04-09 09:22:26.028</td>\n",
              "      <td>1</td>\n",
              "    </tr>\n",
              "    <tr>\n",
              "      <th>904858</th>\n",
              "      <td>2013-04-09 09:25:07.090</td>\n",
              "      <td>1</td>\n",
              "    </tr>\n",
              "    <tr>\n",
              "      <th>904859</th>\n",
              "      <td>2013-04-09 09:25:50.409</td>\n",
              "      <td>1</td>\n",
              "    </tr>\n",
              "    <tr>\n",
              "      <th>904860</th>\n",
              "      <td>2020-03-17 21:40:52.879</td>\n",
              "      <td>1</td>\n",
              "    </tr>\n",
              "  </tbody>\n",
              "</table>\n",
              "<p>904861 rows × 2 columns</p>\n",
              "</div>"
            ],
            "text/plain": [
              "                          data  quantidade\n",
              "0      2017-09-20 16:47:09.285           3\n",
              "1      2015-05-05 20:37:19.551           3\n",
              "2      2018-11-22 18:28:01.619           3\n",
              "3      2017-11-06 19:52:32.782           3\n",
              "4      2014-05-12 09:56:18.787           3\n",
              "...                        ...         ...\n",
              "904856 2013-04-09 09:20:03.491           1\n",
              "904857 2013-04-09 09:22:26.028           1\n",
              "904858 2013-04-09 09:25:07.090           1\n",
              "904859 2013-04-09 09:25:50.409           1\n",
              "904860 2020-03-17 21:40:52.879           1\n",
              "\n",
              "[904861 rows x 2 columns]"
            ]
          },
          "execution_count": 24,
          "metadata": {},
          "output_type": "execute_result"
        }
      ],
      "source": [
        "emprestimos_data = pd.DataFrame(emprestimos_completo['data_emprestimo'].value_counts()).reset_index()\n",
        "emprestimos_data.columns = ['data','quantidade']\n",
        "emprestimos_data['data'] = pd.to_datetime(emprestimos_data['data'])\n",
        "emprestimos_data"
      ]
    },
    {
      "cell_type": "code",
      "execution_count": 26,
      "metadata": {
        "colab": {
          "base_uri": "https://localhost:8080/",
          "height": 0
        },
        "id": "BRNuZLf5Fisc",
        "outputId": "0532d249-16ad-4f4f-f5fc-d5c41008a1ec"
      },
      "outputs": [
        {
          "data": {
            "text/html": [
              "<div>\n",
              "<style scoped>\n",
              "    .dataframe tbody tr th:only-of-type {\n",
              "        vertical-align: middle;\n",
              "    }\n",
              "\n",
              "    .dataframe tbody tr th {\n",
              "        vertical-align: top;\n",
              "    }\n",
              "\n",
              "    .dataframe thead th {\n",
              "        text-align: right;\n",
              "    }\n",
              "</style>\n",
              "<table border=\"1\" class=\"dataframe\">\n",
              "  <thead>\n",
              "    <tr style=\"text-align: right;\">\n",
              "      <th></th>\n",
              "      <th>quantidade</th>\n",
              "    </tr>\n",
              "    <tr>\n",
              "      <th>ano</th>\n",
              "      <th></th>\n",
              "    </tr>\n",
              "  </thead>\n",
              "  <tbody>\n",
              "    <tr>\n",
              "      <th>2010</th>\n",
              "      <td>71336</td>\n",
              "    </tr>\n",
              "    <tr>\n",
              "      <th>2011</th>\n",
              "      <td>93768</td>\n",
              "    </tr>\n",
              "    <tr>\n",
              "      <th>2012</th>\n",
              "      <td>103915</td>\n",
              "    </tr>\n",
              "    <tr>\n",
              "      <th>2013</th>\n",
              "      <td>105416</td>\n",
              "    </tr>\n",
              "    <tr>\n",
              "      <th>2014</th>\n",
              "      <td>94177</td>\n",
              "    </tr>\n",
              "    <tr>\n",
              "      <th>2015</th>\n",
              "      <td>85409</td>\n",
              "    </tr>\n",
              "    <tr>\n",
              "      <th>2016</th>\n",
              "      <td>94921</td>\n",
              "    </tr>\n",
              "    <tr>\n",
              "      <th>2017</th>\n",
              "      <td>94080</td>\n",
              "    </tr>\n",
              "    <tr>\n",
              "      <th>2018</th>\n",
              "      <td>81853</td>\n",
              "    </tr>\n",
              "    <tr>\n",
              "      <th>2019</th>\n",
              "      <td>74149</td>\n",
              "    </tr>\n",
              "    <tr>\n",
              "      <th>2020</th>\n",
              "      <td>7388</td>\n",
              "    </tr>\n",
              "  </tbody>\n",
              "</table>\n",
              "</div>"
            ],
            "text/plain": [
              "      quantidade\n",
              "ano             \n",
              "2010       71336\n",
              "2011       93768\n",
              "2012      103915\n",
              "2013      105416\n",
              "2014       94177\n",
              "2015       85409\n",
              "2016       94921\n",
              "2017       94080\n",
              "2018       81853\n",
              "2019       74149\n",
              "2020        7388"
            ]
          },
          "execution_count": 26,
          "metadata": {},
          "output_type": "execute_result"
        }
      ],
      "source": [
        "emprestimos_por_ano = emprestimos_data.groupby(by=emprestimos_data.data.dt.year).sum(numeric_only=True)\n",
        "emprestimos_por_ano.index.name = 'ano'\n",
        "emprestimos_por_ano"
      ]
    },
    {
      "cell_type": "markdown",
      "metadata": {
        "id": "wWglgC_Qp4Pt"
      },
      "source": [
        "### Configurando tema dos gráficos"
      ]
    },
    {
      "cell_type": "code",
      "execution_count": 27,
      "metadata": {
        "id": "FiM7Bt2Aeq6g"
      },
      "outputs": [],
      "source": [
        "sns.set_theme(context='notebook', \n",
        "              style='darkgrid', \n",
        "              palette='deep', \n",
        "              font_scale=1.3, \n",
        "              rc={\"figure.figsize\":(15,8)})"
      ]
    },
    {
      "cell_type": "code",
      "execution_count": 28,
      "metadata": {
        "colab": {
          "base_uri": "https://localhost:8080/",
          "height": 0
        },
        "id": "X_mLKd3XR8WC",
        "outputId": "c7f06bd5-66b1-4892-f835-8541cf57243d"
      },
      "outputs": [
        {
          "data": {
            "image/png": "[encoded data removed]",
            "text/plain": [
              "<Figure size 1500x800 with 1 Axes>"
            ]
          },
          "metadata": {},
          "output_type": "display_data"
        }
      ],
      "source": [
        "ax = sns.lineplot(data=emprestimos_por_ano,x='ano',y='quantidade')\n",
        "ax.set(xlabel=None,ylabel=None)\n",
        "ax.tick_params(axis='x', rotation=30)\n",
        "ax.yaxis.set_major_formatter(ticker.FuncFormatter(lambda x, p: format(int(x), ',').replace(',','.')))   \n",
        "\n",
        "ax.set_title('Quantidade de exemplares emprestados do SISBI por ano'+'\\n',size=20,loc='left',weight='bold')\n",
        "\n",
        "ax=ax"
      ]
    },
    {
      "cell_type": "markdown",
      "metadata": {
        "id": "RYEdxGZvzFd4"
      },
      "source": [
        "Pode-ser perceber que desde 2013 os números de exemplares emprestados diminuindo, com uma queda bem grande em 2019.\n",
        "\n",
        "O ano de 2020 não pode ser avaliado igual, devido ao período da quantidade de dados.\n",
        "\n",
        "É importante a direção da biblioteca investigar o que está ocorrendo desde 2013 com os procedimentos realizados.\n",
        "Alguns questionamentos importantes que deve-se levar a direção, para que seja aprofundada em outra análise:\n",
        "\n",
        "* O número de alunos da universidade vem diminuindo?\n",
        "* Como está a pesquisa de satisfação dos usuários da biblioteca?\n",
        "* O acervo está atualizado?\n",
        "* Quais são as estratégias de marketing que a biblioteca está realizando?\n",
        "* O que ocorreu de diferente em 2017 em relação a 2016 e 2015 para que o número tenha se elevado?\n",
        "* E em 2019?\n",
        "\n",
        "\n"
      ]
    },
    {
      "cell_type": "markdown",
      "metadata": {
        "id": "sty8yDJ9FgaD"
      },
      "source": [
        "## Quantos foram por cada mês ?"
      ]
    },
    {
      "cell_type": "code",
      "execution_count": 30,
      "metadata": {
        "colab": {
          "base_uri": "https://localhost:8080/",
          "height": 0
        },
        "id": "HW268EeHFgpb",
        "outputId": "afdfeb23-b084-401b-e74b-5a5e52ca2972"
      },
      "outputs": [
        {
          "data": {
            "text/html": [
              "<div>\n",
              "<style scoped>\n",
              "    .dataframe tbody tr th:only-of-type {\n",
              "        vertical-align: middle;\n",
              "    }\n",
              "\n",
              "    .dataframe tbody tr th {\n",
              "        vertical-align: top;\n",
              "    }\n",
              "\n",
              "    .dataframe thead th {\n",
              "        text-align: right;\n",
              "    }\n",
              "</style>\n",
              "<table border=\"1\" class=\"dataframe\">\n",
              "  <thead>\n",
              "    <tr style=\"text-align: right;\">\n",
              "      <th></th>\n",
              "      <th>quantidade</th>\n",
              "    </tr>\n",
              "    <tr>\n",
              "      <th>mes</th>\n",
              "      <th></th>\n",
              "    </tr>\n",
              "  </thead>\n",
              "  <tbody>\n",
              "    <tr>\n",
              "      <th>1</th>\n",
              "      <td>36231</td>\n",
              "    </tr>\n",
              "    <tr>\n",
              "      <th>2</th>\n",
              "      <td>109353</td>\n",
              "    </tr>\n",
              "    <tr>\n",
              "      <th>3</th>\n",
              "      <td>108625</td>\n",
              "    </tr>\n",
              "    <tr>\n",
              "      <th>4</th>\n",
              "      <td>91686</td>\n",
              "    </tr>\n",
              "    <tr>\n",
              "      <th>5</th>\n",
              "      <td>81520</td>\n",
              "    </tr>\n",
              "    <tr>\n",
              "      <th>6</th>\n",
              "      <td>44944</td>\n",
              "    </tr>\n",
              "    <tr>\n",
              "      <th>7</th>\n",
              "      <td>64493</td>\n",
              "    </tr>\n",
              "    <tr>\n",
              "      <th>8</th>\n",
              "      <td>111095</td>\n",
              "    </tr>\n",
              "    <tr>\n",
              "      <th>9</th>\n",
              "      <td>93015</td>\n",
              "    </tr>\n",
              "    <tr>\n",
              "      <th>10</th>\n",
              "      <td>81783</td>\n",
              "    </tr>\n",
              "    <tr>\n",
              "      <th>11</th>\n",
              "      <td>56470</td>\n",
              "    </tr>\n",
              "    <tr>\n",
              "      <th>12</th>\n",
              "      <td>27197</td>\n",
              "    </tr>\n",
              "  </tbody>\n",
              "</table>\n",
              "</div>"
            ],
            "text/plain": [
              "     quantidade\n",
              "mes            \n",
              "1         36231\n",
              "2        109353\n",
              "3        108625\n",
              "4         91686\n",
              "5         81520\n",
              "6         44944\n",
              "7         64493\n",
              "8        111095\n",
              "9         93015\n",
              "10        81783\n",
              "11        56470\n",
              "12        27197"
            ]
          },
          "execution_count": 30,
          "metadata": {},
          "output_type": "execute_result"
        }
      ],
      "source": [
        "emprestimos_por_mes = emprestimos_data.groupby(by=emprestimos_data.data.dt.month).sum(numeric_only=True)\n",
        "emprestimos_por_mes.index.name = 'mes'\n",
        "emprestimos_por_mes"
      ]
    },
    {
      "cell_type": "markdown",
      "metadata": {
        "id": "Qgfo73VTu6-f"
      },
      "source": [
        "### Modificando os números por nomes dos meses"
      ]
    },
    {
      "cell_type": "code",
      "execution_count": 31,
      "metadata": {
        "id": "X7HmAc3avBP9"
      },
      "outputs": [],
      "source": [
        "dicionario_meses = {1:'Jan',2:'Fev',3:'Mar',4:'Abr',\n",
        "                    5:'Mai',6:'Jun',7:'Jul',8:'Ago',\n",
        "                    9:'Set',10:'Out',11:'Nov',12:'Dez'}"
      ]
    },
    {
      "cell_type": "code",
      "execution_count": 32,
      "metadata": {
        "id": "S6SHcqr0tlmr"
      },
      "outputs": [],
      "source": [
        "emprestimos_por_mes.index = emprestimos_por_mes.index.map(dicionario_meses)"
      ]
    },
    {
      "cell_type": "code",
      "execution_count": 33,
      "metadata": {
        "colab": {
          "base_uri": "https://localhost:8080/",
          "height": 0
        },
        "id": "qMBDzp8zvMKE",
        "outputId": "271ec86e-b87c-4ba5-bc59-c316ae976eaa"
      },
      "outputs": [
        {
          "data": {
            "text/html": [
              "<div>\n",
              "<style scoped>\n",
              "    .dataframe tbody tr th:only-of-type {\n",
              "        vertical-align: middle;\n",
              "    }\n",
              "\n",
              "    .dataframe tbody tr th {\n",
              "        vertical-align: top;\n",
              "    }\n",
              "\n",
              "    .dataframe thead th {\n",
              "        text-align: right;\n",
              "    }\n",
              "</style>\n",
              "<table border=\"1\" class=\"dataframe\">\n",
              "  <thead>\n",
              "    <tr style=\"text-align: right;\">\n",
              "      <th></th>\n",
              "      <th>quantidade</th>\n",
              "    </tr>\n",
              "    <tr>\n",
              "      <th>mes</th>\n",
              "      <th></th>\n",
              "    </tr>\n",
              "  </thead>\n",
              "  <tbody>\n",
              "    <tr>\n",
              "      <th>Jan</th>\n",
              "      <td>36231</td>\n",
              "    </tr>\n",
              "    <tr>\n",
              "      <th>Fev</th>\n",
              "      <td>109353</td>\n",
              "    </tr>\n",
              "    <tr>\n",
              "      <th>Mar</th>\n",
              "      <td>108625</td>\n",
              "    </tr>\n",
              "    <tr>\n",
              "      <th>Abr</th>\n",
              "      <td>91686</td>\n",
              "    </tr>\n",
              "    <tr>\n",
              "      <th>Mai</th>\n",
              "      <td>81520</td>\n",
              "    </tr>\n",
              "    <tr>\n",
              "      <th>Jun</th>\n",
              "      <td>44944</td>\n",
              "    </tr>\n",
              "    <tr>\n",
              "      <th>Jul</th>\n",
              "      <td>64493</td>\n",
              "    </tr>\n",
              "    <tr>\n",
              "      <th>Ago</th>\n",
              "      <td>111095</td>\n",
              "    </tr>\n",
              "    <tr>\n",
              "      <th>Set</th>\n",
              "      <td>93015</td>\n",
              "    </tr>\n",
              "    <tr>\n",
              "      <th>Out</th>\n",
              "      <td>81783</td>\n",
              "    </tr>\n",
              "    <tr>\n",
              "      <th>Nov</th>\n",
              "      <td>56470</td>\n",
              "    </tr>\n",
              "    <tr>\n",
              "      <th>Dez</th>\n",
              "      <td>27197</td>\n",
              "    </tr>\n",
              "  </tbody>\n",
              "</table>\n",
              "</div>"
            ],
            "text/plain": [
              "     quantidade\n",
              "mes            \n",
              "Jan       36231\n",
              "Fev      109353\n",
              "Mar      108625\n",
              "Abr       91686\n",
              "Mai       81520\n",
              "Jun       44944\n",
              "Jul       64493\n",
              "Ago      111095\n",
              "Set       93015\n",
              "Out       81783\n",
              "Nov       56470\n",
              "Dez       27197"
            ]
          },
          "execution_count": 33,
          "metadata": {},
          "output_type": "execute_result"
        }
      ],
      "source": [
        "emprestimos_por_mes"
      ]
    },
    {
      "cell_type": "code",
      "execution_count": 37,
      "metadata": {
        "colab": {
          "base_uri": "https://localhost:8080/",
          "height": 0
        },
        "id": "LP0txcDTgXg4",
        "outputId": "4a607c1a-33ea-44c1-e3f8-d4536cb24403"
      },
      "outputs": [
        {
          "data": {
            "image/png": "[encoded data removed]",
            "text/plain": [
              "<Figure size 1500x800 with 1 Axes>"
            ]
          },
          "metadata": {},
          "output_type": "display_data"
        }
      ],
      "source": [
        "ax = sns.lineplot(data=emprestimos_por_mes,x='mes',y='quantidade')\n",
        "ax.set(xlabel=None,ylabel=None)\n",
        "ax.tick_params(axis='x',rotation=30)\n",
        "ax.yaxis.set_major_formatter(ticker.FuncFormatter(lambda x, p: format(int(x), ',').replace(',','.')))                \n",
        "\n",
        "ax.set_title(\"Quantidade de exemplares emprestados do SISBI por mês\"+\"\\n\",size=20,loc='left',weight='bold')\n",
        "ax.text(s='Período de 2010 a 2020',x=-0.5,y=2650,fontsize=18, ha='left',color='gray')\n",
        "\n",
        "ax=ax"
      ]
    },
    {
      "cell_type": "markdown",
      "metadata": {
        "id": "N_6or4311rdE"
      },
      "source": [
        "Pode-se visualizar que os meses com maiores números de exemplares emprestados foram em **março** e **agosto**.\n",
        "\n",
        "Por ser uma biblioteca universitária meses de férias como janeiro, julho e dezembro são os menores números. \n",
        "\n",
        "O que não é nada de novo, entretanto caso todos os colaboradores saírem de férias durante esse período não conseguiríamos manter todo o funcionamento da biblioteca.\n",
        "\n",
        "Principalmente com atividades de inventário que podem ocorrer anualmente ou de dois em dois anos e o melhor período seria de dezembro a janeiro.\n",
        "\n",
        "Então meses como maio, junho, outubro e novembro podem ser uma opção a ser considerada pela direção da biblioteca.\n",
        "\n",
        "Nota-se também a grande queda no mês de junho. Cabe aqui um alerta para se investigar mais, o que está ocorrendo e desenvolver estratégias e ações de marketing da biblioteca para que se aumente o número de exemplares emprestados.\n",
        "\n",
        "Como por exemplo: uma ação para que sejam realizados empréstimos de livros para a leitura nas férias de julho.\n"
      ]
    },
    {
      "cell_type": "markdown",
      "metadata": {
        "id": "QVqkEuKPF49E"
      },
      "source": [
        "## Qual é a quantidade de empréstimos por hora ao longo do dia ?\n"
      ]
    },
    {
      "cell_type": "code",
      "execution_count": 38,
      "metadata": {
        "colab": {
          "base_uri": "https://localhost:8080/"
        },
        "id": "XWnlH5n3F1aT",
        "outputId": "30f80c94-196f-4a9c-ae26-06f9fab85471"
      },
      "outputs": [
        {
          "data": {
            "text/plain": [
              "0        2017-09-20 16:47:09.285\n",
              "1        2015-05-05 20:37:19.551\n",
              "2        2018-11-22 18:28:01.619\n",
              "3        2017-11-06 19:52:32.782\n",
              "4        2014-05-12 09:56:18.787\n",
              "                   ...          \n",
              "904856   2013-04-09 09:20:03.491\n",
              "904857   2013-04-09 09:22:26.028\n",
              "904858   2013-04-09 09:25:07.090\n",
              "904859   2013-04-09 09:25:50.409\n",
              "904860   2020-03-17 21:40:52.879\n",
              "Name: data, Length: 904861, dtype: datetime64[ns]"
            ]
          },
          "execution_count": 38,
          "metadata": {},
          "output_type": "execute_result"
        }
      ],
      "source": [
        "emprestimos_data.data"
      ]
    },
    {
      "cell_type": "code",
      "execution_count": 40,
      "metadata": {
        "colab": {
          "base_uri": "https://localhost:8080/",
          "height": 0
        },
        "id": "bqn-GDjfIP09",
        "outputId": "9a2a53da-2631-4cb8-e3d0-294594ad17b0"
      },
      "outputs": [
        {
          "data": {
            "text/html": [
              "<div>\n",
              "<style scoped>\n",
              "    .dataframe tbody tr th:only-of-type {\n",
              "        vertical-align: middle;\n",
              "    }\n",
              "\n",
              "    .dataframe tbody tr th {\n",
              "        vertical-align: top;\n",
              "    }\n",
              "\n",
              "    .dataframe thead th {\n",
              "        text-align: right;\n",
              "    }\n",
              "</style>\n",
              "<table border=\"1\" class=\"dataframe\">\n",
              "  <thead>\n",
              "    <tr style=\"text-align: right;\">\n",
              "      <th></th>\n",
              "      <th>horas</th>\n",
              "      <th>quantidade</th>\n",
              "    </tr>\n",
              "  </thead>\n",
              "  <tbody>\n",
              "    <tr>\n",
              "      <th>0</th>\n",
              "      <td>0</td>\n",
              "      <td>2</td>\n",
              "    </tr>\n",
              "    <tr>\n",
              "      <th>1</th>\n",
              "      <td>6</td>\n",
              "      <td>1</td>\n",
              "    </tr>\n",
              "    <tr>\n",
              "      <th>2</th>\n",
              "      <td>7</td>\n",
              "      <td>7624</td>\n",
              "    </tr>\n",
              "    <tr>\n",
              "      <th>3</th>\n",
              "      <td>8</td>\n",
              "      <td>45481</td>\n",
              "    </tr>\n",
              "    <tr>\n",
              "      <th>4</th>\n",
              "      <td>9</td>\n",
              "      <td>55773</td>\n",
              "    </tr>\n",
              "    <tr>\n",
              "      <th>5</th>\n",
              "      <td>10</td>\n",
              "      <td>81028</td>\n",
              "    </tr>\n",
              "    <tr>\n",
              "      <th>6</th>\n",
              "      <td>11</td>\n",
              "      <td>77772</td>\n",
              "    </tr>\n",
              "    <tr>\n",
              "      <th>7</th>\n",
              "      <td>12</td>\n",
              "      <td>66460</td>\n",
              "    </tr>\n",
              "    <tr>\n",
              "      <th>8</th>\n",
              "      <td>13</td>\n",
              "      <td>55810</td>\n",
              "    </tr>\n",
              "    <tr>\n",
              "      <th>9</th>\n",
              "      <td>14</td>\n",
              "      <td>66175</td>\n",
              "    </tr>\n",
              "    <tr>\n",
              "      <th>10</th>\n",
              "      <td>15</td>\n",
              "      <td>72048</td>\n",
              "    </tr>\n",
              "    <tr>\n",
              "      <th>11</th>\n",
              "      <td>16</td>\n",
              "      <td>92822</td>\n",
              "    </tr>\n",
              "    <tr>\n",
              "      <th>12</th>\n",
              "      <td>17</td>\n",
              "      <td>82122</td>\n",
              "    </tr>\n",
              "    <tr>\n",
              "      <th>13</th>\n",
              "      <td>18</td>\n",
              "      <td>81939</td>\n",
              "    </tr>\n",
              "    <tr>\n",
              "      <th>14</th>\n",
              "      <td>19</td>\n",
              "      <td>44043</td>\n",
              "    </tr>\n",
              "    <tr>\n",
              "      <th>15</th>\n",
              "      <td>20</td>\n",
              "      <td>57247</td>\n",
              "    </tr>\n",
              "    <tr>\n",
              "      <th>16</th>\n",
              "      <td>21</td>\n",
              "      <td>19990</td>\n",
              "    </tr>\n",
              "    <tr>\n",
              "      <th>17</th>\n",
              "      <td>22</td>\n",
              "      <td>61</td>\n",
              "    </tr>\n",
              "    <tr>\n",
              "      <th>18</th>\n",
              "      <td>23</td>\n",
              "      <td>14</td>\n",
              "    </tr>\n",
              "  </tbody>\n",
              "</table>\n",
              "</div>"
            ],
            "text/plain": [
              "    horas  quantidade\n",
              "0       0           2\n",
              "1       6           1\n",
              "2       7        7624\n",
              "3       8       45481\n",
              "4       9       55773\n",
              "5      10       81028\n",
              "6      11       77772\n",
              "7      12       66460\n",
              "8      13       55810\n",
              "9      14       66175\n",
              "10     15       72048\n",
              "11     16       92822\n",
              "12     17       82122\n",
              "13     18       81939\n",
              "14     19       44043\n",
              "15     20       57247\n",
              "16     21       19990\n",
              "17     22          61\n",
              "18     23          14"
            ]
          },
          "execution_count": 40,
          "metadata": {},
          "output_type": "execute_result"
        }
      ],
      "source": [
        "emprestimos_por_hora = emprestimos_data.groupby(by=emprestimos_data.data.dt.hour).sum(numeric_only=True)\n",
        "emprestimos_por_hora.index.name = 'horas'\n",
        "emprestimos_por_hora = emprestimos_por_hora.reset_index()\n",
        "emprestimos_por_hora"
      ]
    },
    {
      "cell_type": "code",
      "execution_count": 41,
      "metadata": {
        "id": "nr1HTigsC9TW"
      },
      "outputs": [],
      "source": [
        "emprestimos_por_hora = emprestimos_por_hora.sort_values(ascending=True,by='quantidade')"
      ]
    },
    {
      "cell_type": "code",
      "execution_count": 64,
      "metadata": {
        "colab": {
          "base_uri": "https://localhost:8080/",
          "height": 0
        },
        "id": "lXf4ueJo6vma",
        "outputId": "be3143f4-1801-4d2b-d7d6-db288fe63dd1"
      },
      "outputs": [
        {
          "data": {
            "image/png": "[encoded data removed]",
            "text/plain": [
              "<Figure size 1500x800 with 1 Axes>"
            ]
          },
          "metadata": {},
          "output_type": "display_data"
        }
      ],
      "source": [
        "ax = sns.barplot(data=emprestimos_por_hora,y='quantidade',x='horas',\n",
        "                 palette='Blues',hue='quantidade',dodge=False)                  #Ordenar pela quantidade de exemplares emprestados\n",
        "plt.legend([],[], frameon=False)                                                #Excluir a legenda do gráfico\n",
        "\n",
        "ax.set(xlabel='Horário',ylabel=None)\n",
        "ax.yaxis.set_major_formatter(ticker.FuncFormatter(lambda x, p: format(int(x), ',').replace(',','.')))           \n",
        "ax.set_title(\"Quantidade de exemplares emprestados do SISBI por faixa horária\"+\"\\n\",size=20,loc='left',weight='bold')\n",
        "ax.text(s='Período de 2010 a 2020',x=-0.5,y=2250,fontsize=18, ha='left',color='gray')\n",
        "ax=ax"
      ]
    },
    {
      "cell_type": "markdown",
      "metadata": {
        "id": "Lx2FTFjjMgp1"
      },
      "source": [
        "Através do gráfico é possível identificar que os períodos das 10 h e 16 h são os de maior pico no atendimento de empréstimos.\n",
        "\n",
        "Períodos do começo da manhã (entre 7h e 9) e da noite (entre 19h e 22) podem ser os melhores horários para que se realizem as demais atividades além do atendimento."
      ]
    },
    {
      "cell_type": "markdown",
      "metadata": {
        "id": "H0yq5ObWIc1v"
      },
      "source": [
        "# Dia 4 - Continuando a explorar os dados\n"
      ]
    },
    {
      "cell_type": "code",
      "execution_count": 65,
      "metadata": {
        "id": "ONBcZjpAIUrA"
      },
      "outputs": [],
      "source": [
        "import pandas as pd"
      ]
    },
    {
      "cell_type": "code",
      "execution_count": 66,
      "metadata": {
        "colab": {
          "base_uri": "https://localhost:8080/",
          "height": 0
        },
        "id": "6gXwwBclIrgt",
        "outputId": "2cffa7a9-db9a-4878-ccb5-1c5ebb34bacd"
      },
      "outputs": [
        {
          "data": {
            "text/html": [
              "<div>\n",
              "<style scoped>\n",
              "    .dataframe tbody tr th:only-of-type {\n",
              "        vertical-align: middle;\n",
              "    }\n",
              "\n",
              "    .dataframe tbody tr th {\n",
              "        vertical-align: top;\n",
              "    }\n",
              "\n",
              "    .dataframe thead th {\n",
              "        text-align: right;\n",
              "    }\n",
              "</style>\n",
              "<table border=\"1\" class=\"dataframe\">\n",
              "  <thead>\n",
              "    <tr style=\"text-align: right;\">\n",
              "      <th></th>\n",
              "      <th>id_emprestimo</th>\n",
              "      <th>codigo_barras</th>\n",
              "      <th>data_renovacao</th>\n",
              "      <th>data_emprestimo</th>\n",
              "      <th>data_devolucao</th>\n",
              "      <th>matricula_ou_siape</th>\n",
              "      <th>tipo_vinculo_usuario</th>\n",
              "      <th>id_exemplar</th>\n",
              "      <th>colecao</th>\n",
              "      <th>biblioteca</th>\n",
              "      <th>status_material</th>\n",
              "      <th>localizacao</th>\n",
              "      <th>CDU_geral</th>\n",
              "    </tr>\n",
              "  </thead>\n",
              "  <tbody>\n",
              "    <tr>\n",
              "      <th>0</th>\n",
              "      <td>709686</td>\n",
              "      <td>2006017618</td>\n",
              "      <td>2010/01/26 08:07:01.738000000</td>\n",
              "      <td>2010-01-04 08:08:44.081</td>\n",
              "      <td>2010/02/25 07:36:25.800000000</td>\n",
              "      <td>2008112114.0</td>\n",
              "      <td>ALUNO DE PÓS-GRADUAÇÃO</td>\n",
              "      <td>195347</td>\n",
              "      <td>Acervo Circulante</td>\n",
              "      <td>Biblioteca Setorial Prof. Rodolfo Helinski - E...</td>\n",
              "      <td>REGULAR</td>\n",
              "      <td>640</td>\n",
              "      <td>Ciências aplicadas</td>\n",
              "    </tr>\n",
              "    <tr>\n",
              "      <th>1</th>\n",
              "      <td>709687</td>\n",
              "      <td>L184117</td>\n",
              "      <td>2010/01/18 11:07:46.470000000</td>\n",
              "      <td>2010-01-04 08:24:21.284</td>\n",
              "      <td>2010/02/03 08:58:45.692000000</td>\n",
              "      <td>200721119.0</td>\n",
              "      <td>ALUNO DE GRADUAÇÃO</td>\n",
              "      <td>131639</td>\n",
              "      <td>Acervo Circulante</td>\n",
              "      <td>Biblioteca Central Zila Mamede</td>\n",
              "      <td>REGULAR</td>\n",
              "      <td>609</td>\n",
              "      <td>Ciências aplicadas</td>\n",
              "    </tr>\n",
              "    <tr>\n",
              "      <th>2</th>\n",
              "      <td>709688</td>\n",
              "      <td>2007027500</td>\n",
              "      <td>2010/01/19 15:59:26.464000000</td>\n",
              "      <td>2010-01-04 08:27:33.569</td>\n",
              "      <td>2010/02/03 13:06:30.662000000</td>\n",
              "      <td>2009045971.0</td>\n",
              "      <td>ALUNO DE GRADUAÇÃO</td>\n",
              "      <td>225646</td>\n",
              "      <td>Acervo Circulante</td>\n",
              "      <td>Biblioteca Central Zila Mamede</td>\n",
              "      <td>REGULAR</td>\n",
              "      <td>686</td>\n",
              "      <td>Ciências aplicadas</td>\n",
              "    </tr>\n",
              "    <tr>\n",
              "      <th>3</th>\n",
              "      <td>709689</td>\n",
              "      <td>L157395</td>\n",
              "      <td>2010/01/19 15:59:26.447000000</td>\n",
              "      <td>2010-01-04 08:27:33.596</td>\n",
              "      <td>2010/02/03 13:06:43.125000000</td>\n",
              "      <td>2009045971.0</td>\n",
              "      <td>ALUNO DE GRADUAÇÃO</td>\n",
              "      <td>57040</td>\n",
              "      <td>Acervo Circulante</td>\n",
              "      <td>Biblioteca Central Zila Mamede</td>\n",
              "      <td>REGULAR</td>\n",
              "      <td>698</td>\n",
              "      <td>Ciências aplicadas</td>\n",
              "    </tr>\n",
              "    <tr>\n",
              "      <th>4</th>\n",
              "      <td>709691</td>\n",
              "      <td>2008046357</td>\n",
              "      <td>2010/01/19 11:50:13.404000000</td>\n",
              "      <td>2010-01-04 09:02:30.576</td>\n",
              "      <td>2010/02/02 12:13:36.132000000</td>\n",
              "      <td>200507453.0</td>\n",
              "      <td>ALUNO DE GRADUAÇÃO</td>\n",
              "      <td>256537</td>\n",
              "      <td>Acervo Circulante</td>\n",
              "      <td>Biblioteca Setorial Bertha Cruz Enders - ­Esco...</td>\n",
              "      <td>REGULAR</td>\n",
              "      <td>645</td>\n",
              "      <td>Ciências aplicadas</td>\n",
              "    </tr>\n",
              "  </tbody>\n",
              "</table>\n",
              "</div>"
            ],
            "text/plain": [
              "   id_emprestimo codigo_barras                 data_renovacao  \\\n",
              "0         709686    2006017618  2010/01/26 08:07:01.738000000   \n",
              "1         709687       L184117  2010/01/18 11:07:46.470000000   \n",
              "2         709688    2007027500  2010/01/19 15:59:26.464000000   \n",
              "3         709689       L157395  2010/01/19 15:59:26.447000000   \n",
              "4         709691    2008046357  2010/01/19 11:50:13.404000000   \n",
              "\n",
              "          data_emprestimo                 data_devolucao matricula_ou_siape  \\\n",
              "0 2010-01-04 08:08:44.081  2010/02/25 07:36:25.800000000       2008112114.0   \n",
              "1 2010-01-04 08:24:21.284  2010/02/03 08:58:45.692000000        200721119.0   \n",
              "2 2010-01-04 08:27:33.569  2010/02/03 13:06:30.662000000       2009045971.0   \n",
              "3 2010-01-04 08:27:33.596  2010/02/03 13:06:43.125000000       2009045971.0   \n",
              "4 2010-01-04 09:02:30.576  2010/02/02 12:13:36.132000000        200507453.0   \n",
              "\n",
              "     tipo_vinculo_usuario  id_exemplar            colecao  \\\n",
              "0  ALUNO DE PÓS-GRADUAÇÃO       195347  Acervo Circulante   \n",
              "1      ALUNO DE GRADUAÇÃO       131639  Acervo Circulante   \n",
              "2      ALUNO DE GRADUAÇÃO       225646  Acervo Circulante   \n",
              "3      ALUNO DE GRADUAÇÃO        57040  Acervo Circulante   \n",
              "4      ALUNO DE GRADUAÇÃO       256537  Acervo Circulante   \n",
              "\n",
              "                                          biblioteca status_material  \\\n",
              "0  Biblioteca Setorial Prof. Rodolfo Helinski - E...         REGULAR   \n",
              "1                     Biblioteca Central Zila Mamede         REGULAR   \n",
              "2                     Biblioteca Central Zila Mamede         REGULAR   \n",
              "3                     Biblioteca Central Zila Mamede         REGULAR   \n",
              "4  Biblioteca Setorial Bertha Cruz Enders - ­Esco...         REGULAR   \n",
              "\n",
              "   localizacao           CDU_geral  \n",
              "0          640  Ciências aplicadas  \n",
              "1          609  Ciências aplicadas  \n",
              "2          686  Ciências aplicadas  \n",
              "3          698  Ciências aplicadas  \n",
              "4          645  Ciências aplicadas  "
            ]
          },
          "execution_count": 66,
          "metadata": {},
          "output_type": "execute_result"
        }
      ],
      "source": [
        "emprestimos_completo.head()"
      ]
    },
    {
      "cell_type": "markdown",
      "metadata": {
        "id": "7UCwebP2P6nt"
      },
      "source": [
        "### Modificando tipo de dado da data de empréstimo do DataFrame"
      ]
    },
    {
      "cell_type": "code",
      "execution_count": 67,
      "metadata": {
        "id": "iw9EX7MLIpBW"
      },
      "outputs": [],
      "source": [
        "emprestimos_completo['data_emprestimo'] = pd.to_datetime(emprestimos_completo['data_emprestimo'])"
      ]
    },
    {
      "cell_type": "markdown",
      "metadata": {
        "id": "5lfbbnRPQjHN"
      },
      "source": [
        "## Verificando valores únicos das variáveis"
      ]
    },
    {
      "cell_type": "code",
      "execution_count": 68,
      "metadata": {
        "colab": {
          "base_uri": "https://localhost:8080/"
        },
        "id": "FWAJsGzbQOwZ",
        "outputId": "72085d33-36ad-4cbe-fa07-1d5c6ccc8d91"
      },
      "outputs": [
        {
          "data": {
            "text/plain": [
              "array(['ALUNO DE PÓS-GRADUAÇÃO', 'ALUNO DE GRADUAÇÃO',\n",
              "       'SERVIDOR TÉCNICO-ADMINISTRATIVO', 'DOCENTE', 'DOCENTE EXTERNO',\n",
              "       'ALUNO MÉDIO/TÉCNICO', 'USUÁRIO EXTERNO'], dtype=object)"
            ]
          },
          "execution_count": 68,
          "metadata": {},
          "output_type": "execute_result"
        }
      ],
      "source": [
        "emprestimos_completo.tipo_vinculo_usuario.unique()\n"
      ]
    },
    {
      "cell_type": "code",
      "execution_count": 69,
      "metadata": {
        "colab": {
          "base_uri": "https://localhost:8080/"
        },
        "id": "-hTgFWfuQf7d",
        "outputId": "a287cbf4-83e8-4249-dfdc-21b61dc3c0e5"
      },
      "outputs": [
        {
          "data": {
            "text/plain": [
              "array(['Acervo Circulante', 'Monografias', 'Publicações de Autores do RN',\n",
              "       'Multimeios', 'Eventos', 'Publicações da UFRN', 'Folhetos',\n",
              "       'Obras de Referência', 'Dissertações', 'Coleção Zila Mamede',\n",
              "       'Coleção Mossoroense', 'Trabalho Acadêmico',\n",
              "       'Necessidades Educacionais Específicas', 'Obras Raras',\n",
              "       'Literatura de Cordel', 'Teses'], dtype=object)"
            ]
          },
          "execution_count": 69,
          "metadata": {},
          "output_type": "execute_result"
        }
      ],
      "source": [
        "emprestimos_completo.colecao.unique()\n"
      ]
    },
    {
      "cell_type": "code",
      "execution_count": 70,
      "metadata": {
        "colab": {
          "base_uri": "https://localhost:8080/"
        },
        "id": "YNytp4siQfyw",
        "outputId": "a8039cf2-ec4c-4469-9973-64efd02a543c"
      },
      "outputs": [
        {
          "data": {
            "text/plain": [
              "array(['Biblioteca Setorial Prof. Rodolfo Helinski - Escola Agrícola de Jundiaí - EAJ  - Macaiba',\n",
              "       'Biblioteca Central Zila Mamede',\n",
              "       'Biblioteca Setorial Bertha Cruz Enders - \\xadEscola de Saúde da UFRN - ESUFRN',\n",
              "       'Biblioteca Setorial do Centro Ciências da Saúde - CCS',\n",
              "       'Biblioteca Setorial Prof. Alberto Moreira Campos - \\xadDepartamento de Odontologia',\n",
              "       'Biblioteca Setorial do Centro de Ciências Humanas, Letras e Artes - CCHLA',\n",
              "       'Biblioteca Setorial Prof. Horácio Nicolas Solimo - \\xad Engenharia Química - EQ - CT',\n",
              "       'Biblioteca Setorial Prof. Ronaldo Xavier de Arruda - CCET',\n",
              "       'Biblioteca Setorial Prof. Francisco Gurgel De Azevedo - Instituto Química - IQ',\n",
              "       'Biblioteca Setorial do Centro Ciências Sociais Aplicadas - CCSA',\n",
              "       'Biblioteca Setorial do Departamento de Artes - DEART',\n",
              "       'Biblioteca Setorial Prof. Dr. Marcelo Bezerra de Melo Tinôco - DARQ - \\xadCT',\n",
              "       'Biblioteca Setorial Moacyr de Góes - CE',\n",
              "       'Biblioteca Setorial Prof. Leopoldo Nelson - \\xadCentro de Biociências - CB',\n",
              "       'Biblioteca Setorial Dr. Paulo Bezerra - EMCM/RN - Caicó',\n",
              "       'Biblioteca Setorial Pe. Jaime Diniz - Escola de Música - EMUFRN',\n",
              "       'Biblioteca Setorial Profª. Maria Lúcia da Costa Bezerra - \\xadCERES\\xad - Caicó',\n",
              "       'Biblioteca Setorial Profª. Maria José Mamede Galvão - FELCS - Currais Novos',\n",
              "       'Biblioteca Setorial da Faculdade de Ciências da Saúde do Trairi - FACISA - Santa Cruz',\n",
              "       'Biblioteca Setorial Árvore do Conhecimento - Instituto do Cérebro - ICe',\n",
              "       'Biblioteca Setorial do Núcleo de Educação da Infância - NEI',\n",
              "       'Biblioteca Setorial do Núcleo de Ensino Superior do Agreste - NESA - Nova Cruz'],\n",
              "      dtype=object)"
            ]
          },
          "execution_count": 70,
          "metadata": {},
          "output_type": "execute_result"
        }
      ],
      "source": [
        "emprestimos_completo.biblioteca.unique()\n"
      ]
    },
    {
      "cell_type": "code",
      "execution_count": 71,
      "metadata": {
        "colab": {
          "base_uri": "https://localhost:8080/"
        },
        "id": "ofQVAnPiQfrW",
        "outputId": "0fb22dbb-af71-4adb-beab-63e010ceea54"
      },
      "outputs": [
        {
          "data": {
            "text/plain": [
              "array(['Ciências aplicadas', 'Linguagem', 'Ciências sociais',\n",
              "       'Geografia. Biografia. História.',\n",
              "       'Matemática e ciências naturais', 'Religião', 'Belas artes',\n",
              "       'Generalidades', 'Filosofia e psicologia'], dtype=object)"
            ]
          },
          "execution_count": 71,
          "metadata": {},
          "output_type": "execute_result"
        }
      ],
      "source": [
        "emprestimos_completo.CDU_geral.unique()"
      ]
    },
    {
      "cell_type": "markdown",
      "metadata": {
        "id": "TCHme5sVIkM4"
      },
      "source": [
        "## Função"
      ]
    },
    {
      "cell_type": "code",
      "execution_count": 72,
      "metadata": {
        "id": "ZaY2ZieqIjIX"
      },
      "outputs": [],
      "source": [
        "def tabela_frequencia(variavel):\n",
        "  '''\n",
        "  Esta função irá gerar uma tabela de frequência com percentuais de acordo \n",
        "  com a variável passada. \n",
        "\n",
        "  variavel = variável categórica escolhida de dentro do conjunto de dados \n",
        "  emprestimos_completo\n",
        "  '''\n",
        "\n",
        "  dataframe = pd.DataFrame(emprestimos_completo[variavel].value_counts())                      \n",
        "  dataframe.columns = ['quantidade']\n",
        "  dataframe['percentual'] = round((dataframe.quantidade / dataframe.quantidade.sum())*100,1)\n",
        "\n",
        "  return dataframe"
      ]
    },
    {
      "cell_type": "markdown",
      "metadata": {
        "id": "2Vtb-OnvQob5"
      },
      "source": [
        "## Quantos foram por tipo de vinculo do usuario ?"
      ]
    },
    {
      "cell_type": "code",
      "execution_count": 73,
      "metadata": {
        "colab": {
          "base_uri": "https://localhost:8080/",
          "height": 0
        },
        "id": "7QnMjXPpQpS4",
        "outputId": "825b9881-ef47-4bfe-94f0-346ce4b41998"
      },
      "outputs": [
        {
          "data": {
            "text/html": [
              "<div>\n",
              "<style scoped>\n",
              "    .dataframe tbody tr th:only-of-type {\n",
              "        vertical-align: middle;\n",
              "    }\n",
              "\n",
              "    .dataframe tbody tr th {\n",
              "        vertical-align: top;\n",
              "    }\n",
              "\n",
              "    .dataframe thead th {\n",
              "        text-align: right;\n",
              "    }\n",
              "</style>\n",
              "<table border=\"1\" class=\"dataframe\">\n",
              "  <thead>\n",
              "    <tr style=\"text-align: right;\">\n",
              "      <th></th>\n",
              "      <th>quantidade</th>\n",
              "      <th>percentual</th>\n",
              "    </tr>\n",
              "    <tr>\n",
              "      <th>tipo_vinculo_usuario</th>\n",
              "      <th></th>\n",
              "      <th></th>\n",
              "    </tr>\n",
              "  </thead>\n",
              "  <tbody>\n",
              "    <tr>\n",
              "      <th>ALUNO DE GRADUAÇÃO</th>\n",
              "      <td>724705</td>\n",
              "      <td>80.0</td>\n",
              "    </tr>\n",
              "    <tr>\n",
              "      <th>ALUNO DE PÓS-GRADUAÇÃO</th>\n",
              "      <td>130737</td>\n",
              "      <td>14.4</td>\n",
              "    </tr>\n",
              "    <tr>\n",
              "      <th>DOCENTE</th>\n",
              "      <td>26467</td>\n",
              "      <td>2.9</td>\n",
              "    </tr>\n",
              "    <tr>\n",
              "      <th>SERVIDOR TÉCNICO-ADMINISTRATIVO</th>\n",
              "      <td>13558</td>\n",
              "      <td>1.5</td>\n",
              "    </tr>\n",
              "    <tr>\n",
              "      <th>ALUNO MÉDIO/TÉCNICO</th>\n",
              "      <td>8189</td>\n",
              "      <td>0.9</td>\n",
              "    </tr>\n",
              "    <tr>\n",
              "      <th>DOCENTE EXTERNO</th>\n",
              "      <td>2750</td>\n",
              "      <td>0.3</td>\n",
              "    </tr>\n",
              "    <tr>\n",
              "      <th>USUÁRIO EXTERNO</th>\n",
              "      <td>6</td>\n",
              "      <td>0.0</td>\n",
              "    </tr>\n",
              "  </tbody>\n",
              "</table>\n",
              "</div>"
            ],
            "text/plain": [
              "                                 quantidade  percentual\n",
              "tipo_vinculo_usuario                                   \n",
              "ALUNO DE GRADUAÇÃO                   724705        80.0\n",
              "ALUNO DE PÓS-GRADUAÇÃO               130737        14.4\n",
              "DOCENTE                               26467         2.9\n",
              "SERVIDOR TÉCNICO-ADMINISTRATIVO       13558         1.5\n",
              "ALUNO MÉDIO/TÉCNICO                    8189         0.9\n",
              "DOCENTE EXTERNO                        2750         0.3\n",
              "USUÁRIO EXTERNO                           6         0.0"
            ]
          },
          "execution_count": 73,
          "metadata": {},
          "output_type": "execute_result"
        }
      ],
      "source": [
        "tabela_frequencia('tipo_vinculo_usuario')"
      ]
    },
    {
      "cell_type": "markdown",
      "metadata": {
        "id": "wIMrYlNVVx-L"
      },
      "source": [
        "O maior público da biblioteca são de fato os alunos de graduação com aproxidamente 78% o segundo maior público é o de pós graduação com aproximadamente 15%.\n",
        "\n",
        "Vale lembrar que esta é apenas uma métrica geral a partir dos exemplares emprestados.\n",
        "\n",
        "Possilvemente a maior diferença entre os percentuais dos dois anteriores é devido a dois pontos:\n",
        "* Alunos de pós graduação, tem o maior enfoque em artigos científicos que são acessados através de bases de dados bibliográficas. \n",
        "* A maior quantidade de alunos de graduação em comparação com os da pós na universidade.\n",
        "\n"
      ]
    },
    {
      "cell_type": "markdown",
      "metadata": {
        "id": "c0xsg-2yQxsr"
      },
      "source": [
        "## Quantos foram por coleção ?"
      ]
    },
    {
      "cell_type": "code",
      "execution_count": 74,
      "metadata": {
        "colab": {
          "base_uri": "https://localhost:8080/",
          "height": 0
        },
        "id": "i4i_41TSQvtU",
        "outputId": "c400f954-35d8-495a-d705-5d7c98dc6e3a"
      },
      "outputs": [
        {
          "data": {
            "text/html": [
              "<div>\n",
              "<style scoped>\n",
              "    .dataframe tbody tr th:only-of-type {\n",
              "        vertical-align: middle;\n",
              "    }\n",
              "\n",
              "    .dataframe tbody tr th {\n",
              "        vertical-align: top;\n",
              "    }\n",
              "\n",
              "    .dataframe thead th {\n",
              "        text-align: right;\n",
              "    }\n",
              "</style>\n",
              "<table border=\"1\" class=\"dataframe\">\n",
              "  <thead>\n",
              "    <tr style=\"text-align: right;\">\n",
              "      <th></th>\n",
              "      <th>quantidade</th>\n",
              "      <th>percentual</th>\n",
              "    </tr>\n",
              "    <tr>\n",
              "      <th>colecao</th>\n",
              "      <th></th>\n",
              "      <th></th>\n",
              "    </tr>\n",
              "  </thead>\n",
              "  <tbody>\n",
              "    <tr>\n",
              "      <th>Acervo Circulante</th>\n",
              "      <td>905008</td>\n",
              "      <td>99.8</td>\n",
              "    </tr>\n",
              "    <tr>\n",
              "      <th>Monografias</th>\n",
              "      <td>560</td>\n",
              "      <td>0.1</td>\n",
              "    </tr>\n",
              "    <tr>\n",
              "      <th>Publicações de Autores do RN</th>\n",
              "      <td>328</td>\n",
              "      <td>0.0</td>\n",
              "    </tr>\n",
              "    <tr>\n",
              "      <th>Publicações da UFRN</th>\n",
              "      <td>223</td>\n",
              "      <td>0.0</td>\n",
              "    </tr>\n",
              "    <tr>\n",
              "      <th>Multimeios</th>\n",
              "      <td>72</td>\n",
              "      <td>0.0</td>\n",
              "    </tr>\n",
              "    <tr>\n",
              "      <th>Obras de Referência</th>\n",
              "      <td>60</td>\n",
              "      <td>0.0</td>\n",
              "    </tr>\n",
              "    <tr>\n",
              "      <th>Dissertações</th>\n",
              "      <td>50</td>\n",
              "      <td>0.0</td>\n",
              "    </tr>\n",
              "    <tr>\n",
              "      <th>Folhetos</th>\n",
              "      <td>35</td>\n",
              "      <td>0.0</td>\n",
              "    </tr>\n",
              "    <tr>\n",
              "      <th>Coleção Mossoroense</th>\n",
              "      <td>19</td>\n",
              "      <td>0.0</td>\n",
              "    </tr>\n",
              "    <tr>\n",
              "      <th>Eventos</th>\n",
              "      <td>16</td>\n",
              "      <td>0.0</td>\n",
              "    </tr>\n",
              "    <tr>\n",
              "      <th>Coleção Zila Mamede</th>\n",
              "      <td>14</td>\n",
              "      <td>0.0</td>\n",
              "    </tr>\n",
              "    <tr>\n",
              "      <th>Necessidades Educacionais Específicas</th>\n",
              "      <td>14</td>\n",
              "      <td>0.0</td>\n",
              "    </tr>\n",
              "    <tr>\n",
              "      <th>Literatura de Cordel</th>\n",
              "      <td>6</td>\n",
              "      <td>0.0</td>\n",
              "    </tr>\n",
              "    <tr>\n",
              "      <th>Teses</th>\n",
              "      <td>3</td>\n",
              "      <td>0.0</td>\n",
              "    </tr>\n",
              "    <tr>\n",
              "      <th>Trabalho Acadêmico</th>\n",
              "      <td>2</td>\n",
              "      <td>0.0</td>\n",
              "    </tr>\n",
              "    <tr>\n",
              "      <th>Obras Raras</th>\n",
              "      <td>2</td>\n",
              "      <td>0.0</td>\n",
              "    </tr>\n",
              "  </tbody>\n",
              "</table>\n",
              "</div>"
            ],
            "text/plain": [
              "                                       quantidade  percentual\n",
              "colecao                                                      \n",
              "Acervo Circulante                          905008        99.8\n",
              "Monografias                                   560         0.1\n",
              "Publicações de Autores do RN                  328         0.0\n",
              "Publicações da UFRN                           223         0.0\n",
              "Multimeios                                     72         0.0\n",
              "Obras de Referência                            60         0.0\n",
              "Dissertações                                   50         0.0\n",
              "Folhetos                                       35         0.0\n",
              "Coleção Mossoroense                            19         0.0\n",
              "Eventos                                        16         0.0\n",
              "Coleção Zila Mamede                            14         0.0\n",
              "Necessidades Educacionais Específicas          14         0.0\n",
              "Literatura de Cordel                            6         0.0\n",
              "Teses                                           3         0.0\n",
              "Trabalho Acadêmico                              2         0.0\n",
              "Obras Raras                                     2         0.0"
            ]
          },
          "execution_count": 74,
          "metadata": {},
          "output_type": "execute_result"
        }
      ],
      "source": [
        "tabela_frequencia('colecao')"
      ]
    },
    {
      "cell_type": "markdown",
      "metadata": {
        "id": "exCEU2QHa4zL"
      },
      "source": [
        "A principal coleção é a própria circulante o que se cria um alerta, pois está com 99% de todos os exemplares empréstados.\n",
        "\n",
        "Principalmente para as monografias, dissertações e teses que poderiam estar sendo mais consultadas para que haja um crescimento das discussões de pesquisa interna da instituição. \n",
        "\n",
        "Entretanto é importante verificar se esses documentos não estão disponíveis na coleção online e por este motivo não é emprestada fisicamente.\n",
        "\n",
        "As coleções: Coleção Mossoroense, Coleção Zila Mamede, Literatura de Cordel, Obras Raras devem ter uma atenção especial em entender a razão que estão com números tão pequenos de frequência. \t"
      ]
    },
    {
      "cell_type": "markdown",
      "metadata": {
        "id": "mtS9tzYVQ4q7"
      },
      "source": [
        "## Quantos foram por biblioteca ?"
      ]
    },
    {
      "cell_type": "code",
      "execution_count": 75,
      "metadata": {
        "colab": {
          "base_uri": "https://localhost:8080/",
          "height": 0
        },
        "id": "WKT7PRlLQ4IB",
        "outputId": "a588590c-e578-4b46-8592-b8118ae99f57"
      },
      "outputs": [
        {
          "data": {
            "text/html": [
              "<div>\n",
              "<style scoped>\n",
              "    .dataframe tbody tr th:only-of-type {\n",
              "        vertical-align: middle;\n",
              "    }\n",
              "\n",
              "    .dataframe tbody tr th {\n",
              "        vertical-align: top;\n",
              "    }\n",
              "\n",
              "    .dataframe thead th {\n",
              "        text-align: right;\n",
              "    }\n",
              "</style>\n",
              "<table border=\"1\" class=\"dataframe\">\n",
              "  <thead>\n",
              "    <tr style=\"text-align: right;\">\n",
              "      <th></th>\n",
              "      <th>quantidade</th>\n",
              "      <th>percentual</th>\n",
              "    </tr>\n",
              "    <tr>\n",
              "      <th>biblioteca</th>\n",
              "      <th></th>\n",
              "      <th></th>\n",
              "    </tr>\n",
              "  </thead>\n",
              "  <tbody>\n",
              "    <tr>\n",
              "      <th>Biblioteca Central Zila Mamede</th>\n",
              "      <td>681622</td>\n",
              "      <td>75.2</td>\n",
              "    </tr>\n",
              "    <tr>\n",
              "      <th>Biblioteca Setorial do Centro Ciências da Saúde - CCS</th>\n",
              "      <td>58390</td>\n",
              "      <td>6.4</td>\n",
              "    </tr>\n",
              "    <tr>\n",
              "      <th>Biblioteca Setorial Prof. Alberto Moreira Campos - ­Departamento de Odontologia</th>\n",
              "      <td>25607</td>\n",
              "      <td>2.8</td>\n",
              "    </tr>\n",
              "    <tr>\n",
              "      <th>Biblioteca Setorial Profª. Maria Lúcia da Costa Bezerra - ­CERES­ - Caicó</th>\n",
              "      <td>23257</td>\n",
              "      <td>2.6</td>\n",
              "    </tr>\n",
              "    <tr>\n",
              "      <th>Biblioteca Setorial da Faculdade de Ciências da Saúde do Trairi - FACISA - Santa Cruz</th>\n",
              "      <td>22024</td>\n",
              "      <td>2.4</td>\n",
              "    </tr>\n",
              "    <tr>\n",
              "      <th>Biblioteca Setorial Bertha Cruz Enders - ­Escola de Saúde da UFRN - ESUFRN</th>\n",
              "      <td>16570</td>\n",
              "      <td>1.8</td>\n",
              "    </tr>\n",
              "    <tr>\n",
              "      <th>Biblioteca Setorial do Centro de Ciências Humanas, Letras e Artes - CCHLA</th>\n",
              "      <td>14255</td>\n",
              "      <td>1.6</td>\n",
              "    </tr>\n",
              "    <tr>\n",
              "      <th>Biblioteca Setorial Prof. Francisco Gurgel De Azevedo - Instituto Química - IQ</th>\n",
              "      <td>11358</td>\n",
              "      <td>1.3</td>\n",
              "    </tr>\n",
              "    <tr>\n",
              "      <th>Biblioteca Setorial Prof. Ronaldo Xavier de Arruda - CCET</th>\n",
              "      <td>8841</td>\n",
              "      <td>1.0</td>\n",
              "    </tr>\n",
              "    <tr>\n",
              "      <th>Biblioteca Setorial Prof. Rodolfo Helinski - Escola Agrícola de Jundiaí - EAJ  - Macaiba</th>\n",
              "      <td>8451</td>\n",
              "      <td>0.9</td>\n",
              "    </tr>\n",
              "    <tr>\n",
              "      <th>Biblioteca Setorial Profª. Maria José Mamede Galvão - FELCS - Currais Novos</th>\n",
              "      <td>8229</td>\n",
              "      <td>0.9</td>\n",
              "    </tr>\n",
              "    <tr>\n",
              "      <th>Biblioteca Setorial do Departamento de Artes - DEART</th>\n",
              "      <td>7079</td>\n",
              "      <td>0.8</td>\n",
              "    </tr>\n",
              "    <tr>\n",
              "      <th>Biblioteca Setorial Dr. Paulo Bezerra - EMCM/RN - Caicó</th>\n",
              "      <td>4863</td>\n",
              "      <td>0.5</td>\n",
              "    </tr>\n",
              "    <tr>\n",
              "      <th>Biblioteca Setorial Pe. Jaime Diniz - Escola de Música - EMUFRN</th>\n",
              "      <td>4154</td>\n",
              "      <td>0.5</td>\n",
              "    </tr>\n",
              "    <tr>\n",
              "      <th>Biblioteca Setorial do Centro Ciências Sociais Aplicadas - CCSA</th>\n",
              "      <td>3856</td>\n",
              "      <td>0.4</td>\n",
              "    </tr>\n",
              "    <tr>\n",
              "      <th>Biblioteca Setorial Prof. Leopoldo Nelson - ­Centro de Biociências - CB</th>\n",
              "      <td>3575</td>\n",
              "      <td>0.4</td>\n",
              "    </tr>\n",
              "    <tr>\n",
              "      <th>Biblioteca Setorial Prof. Horácio Nicolas Solimo - ­ Engenharia Química - EQ - CT</th>\n",
              "      <td>1545</td>\n",
              "      <td>0.2</td>\n",
              "    </tr>\n",
              "    <tr>\n",
              "      <th>Biblioteca Setorial Prof. Dr. Marcelo Bezerra de Melo Tinôco - DARQ - ­CT</th>\n",
              "      <td>1082</td>\n",
              "      <td>0.1</td>\n",
              "    </tr>\n",
              "    <tr>\n",
              "      <th>Biblioteca Setorial do Núcleo de Educação da Infância - NEI</th>\n",
              "      <td>671</td>\n",
              "      <td>0.1</td>\n",
              "    </tr>\n",
              "    <tr>\n",
              "      <th>Biblioteca Setorial Árvore do Conhecimento - Instituto do Cérebro - ICe</th>\n",
              "      <td>447</td>\n",
              "      <td>0.0</td>\n",
              "    </tr>\n",
              "    <tr>\n",
              "      <th>Biblioteca Setorial Moacyr de Góes - CE</th>\n",
              "      <td>283</td>\n",
              "      <td>0.0</td>\n",
              "    </tr>\n",
              "    <tr>\n",
              "      <th>Biblioteca Setorial do Núcleo de Ensino Superior do Agreste - NESA - Nova Cruz</th>\n",
              "      <td>253</td>\n",
              "      <td>0.0</td>\n",
              "    </tr>\n",
              "  </tbody>\n",
              "</table>\n",
              "</div>"
            ],
            "text/plain": [
              "                                                    quantidade  percentual\n",
              "biblioteca                                                                \n",
              "Biblioteca Central Zila Mamede                          681622        75.2\n",
              "Biblioteca Setorial do Centro Ciências da Saúde...       58390         6.4\n",
              "Biblioteca Setorial Prof. Alberto Moreira Campo...       25607         2.8\n",
              "Biblioteca Setorial Profª. Maria Lúcia da Costa...       23257         2.6\n",
              "Biblioteca Setorial da Faculdade de Ciências da...       22024         2.4\n",
              "Biblioteca Setorial Bertha Cruz Enders - ­Escol...       16570         1.8\n",
              "Biblioteca Setorial do Centro de Ciências Human...       14255         1.6\n",
              "Biblioteca Setorial Prof. Francisco Gurgel De A...       11358         1.3\n",
              "Biblioteca Setorial Prof. Ronaldo Xavier de Arr...        8841         1.0\n",
              "Biblioteca Setorial Prof. Rodolfo Helinski - Es...        8451         0.9\n",
              "Biblioteca Setorial Profª. Maria José Mamede Ga...        8229         0.9\n",
              "Biblioteca Setorial do Departamento de Artes - ...        7079         0.8\n",
              "Biblioteca Setorial Dr. Paulo Bezerra - EMCM/RN...        4863         0.5\n",
              "Biblioteca Setorial Pe. Jaime Diniz - Escola de...        4154         0.5\n",
              "Biblioteca Setorial do Centro Ciências Sociais ...        3856         0.4\n",
              "Biblioteca Setorial Prof. Leopoldo Nelson - ­Ce...        3575         0.4\n",
              "Biblioteca Setorial Prof. Horácio Nicolas Solim...        1545         0.2\n",
              "Biblioteca Setorial Prof. Dr. Marcelo Bezerra d...        1082         0.1\n",
              "Biblioteca Setorial do Núcleo de Educação da In...         671         0.1\n",
              "Biblioteca Setorial Árvore do Conhecimento - In...         447         0.0\n",
              "Biblioteca Setorial Moacyr de Góes - CE                    283         0.0\n",
              "Biblioteca Setorial do Núcleo de Ensino Superio...         253         0.0"
            ]
          },
          "execution_count": 75,
          "metadata": {},
          "output_type": "execute_result"
        }
      ],
      "source": [
        "tabela_frequencia('biblioteca')"
      ]
    },
    {
      "cell_type": "markdown",
      "metadata": {
        "id": "-Rs09vLJfxHL"
      },
      "source": [
        "Pelo tamanho da biblioteca central era de se esperar que houvesse uma maior predominância dela.\n",
        "\n",
        "Este ranking é importante para se entender o contexto geral do sistema de bibliotecas, entretanto para que se enriqueça ainda mais essa análise se faz necessário uma avaliação interna de outras métricas, como:\n",
        "\n",
        "* A quantidade esperada de empréstimos.\n",
        "* Quantidade de empréstimos por usuário cadastrado em cada biblioteca.\n",
        "* Ações e investimentos realizados em cada uma.\n",
        "\n"
      ]
    },
    {
      "cell_type": "markdown",
      "metadata": {
        "id": "QlcPSrPKRAvP"
      },
      "source": [
        "## Quantos foram pela CDU geral?\n"
      ]
    },
    {
      "cell_type": "code",
      "execution_count": 76,
      "metadata": {
        "colab": {
          "base_uri": "https://localhost:8080/",
          "height": 0
        },
        "id": "Ngy0uLs8RDyw",
        "outputId": "851d1824-57e6-462f-95aa-becee97ccca8"
      },
      "outputs": [
        {
          "data": {
            "text/html": [
              "<div>\n",
              "<style scoped>\n",
              "    .dataframe tbody tr th:only-of-type {\n",
              "        vertical-align: middle;\n",
              "    }\n",
              "\n",
              "    .dataframe tbody tr th {\n",
              "        vertical-align: top;\n",
              "    }\n",
              "\n",
              "    .dataframe thead th {\n",
              "        text-align: right;\n",
              "    }\n",
              "</style>\n",
              "<table border=\"1\" class=\"dataframe\">\n",
              "  <thead>\n",
              "    <tr style=\"text-align: right;\">\n",
              "      <th></th>\n",
              "      <th>quantidade</th>\n",
              "      <th>percentual</th>\n",
              "    </tr>\n",
              "    <tr>\n",
              "      <th>CDU_geral</th>\n",
              "      <th></th>\n",
              "      <th></th>\n",
              "    </tr>\n",
              "  </thead>\n",
              "  <tbody>\n",
              "    <tr>\n",
              "      <th>Ciências aplicadas</th>\n",
              "      <td>637019</td>\n",
              "      <td>70.3</td>\n",
              "    </tr>\n",
              "    <tr>\n",
              "      <th>Ciências sociais</th>\n",
              "      <td>157749</td>\n",
              "      <td>17.4</td>\n",
              "    </tr>\n",
              "    <tr>\n",
              "      <th>Matemática e ciências naturais</th>\n",
              "      <td>27411</td>\n",
              "      <td>3.0</td>\n",
              "    </tr>\n",
              "    <tr>\n",
              "      <th>Generalidades</th>\n",
              "      <td>25658</td>\n",
              "      <td>2.8</td>\n",
              "    </tr>\n",
              "    <tr>\n",
              "      <th>Religião</th>\n",
              "      <td>25352</td>\n",
              "      <td>2.8</td>\n",
              "    </tr>\n",
              "    <tr>\n",
              "      <th>Filosofia e psicologia</th>\n",
              "      <td>24568</td>\n",
              "      <td>2.7</td>\n",
              "    </tr>\n",
              "    <tr>\n",
              "      <th>Geografia. Biografia. História.</th>\n",
              "      <td>2986</td>\n",
              "      <td>0.3</td>\n",
              "    </tr>\n",
              "    <tr>\n",
              "      <th>Belas artes</th>\n",
              "      <td>2851</td>\n",
              "      <td>0.3</td>\n",
              "    </tr>\n",
              "    <tr>\n",
              "      <th>Linguagem</th>\n",
              "      <td>2818</td>\n",
              "      <td>0.3</td>\n",
              "    </tr>\n",
              "  </tbody>\n",
              "</table>\n",
              "</div>"
            ],
            "text/plain": [
              "                                 quantidade  percentual\n",
              "CDU_geral                                              \n",
              "Ciências aplicadas                   637019        70.3\n",
              "Ciências sociais                     157749        17.4\n",
              "Matemática e ciências naturais        27411         3.0\n",
              "Generalidades                         25658         2.8\n",
              "Religião                              25352         2.8\n",
              "Filosofia e psicologia                24568         2.7\n",
              "Geografia. Biografia. História.        2986         0.3\n",
              "Belas artes                            2851         0.3\n",
              "Linguagem                              2818         0.3"
            ]
          },
          "execution_count": 76,
          "metadata": {},
          "output_type": "execute_result"
        }
      ],
      "source": [
        "tabela_frequencia('CDU_geral')"
      ]
    },
    {
      "cell_type": "markdown",
      "metadata": {
        "id": "XE_rHLY3l-rg"
      },
      "source": [
        "De maneira geral podemos observar que há uma grande diferença entre os temas.\n",
        "\n",
        "Será importante entender a razão de materiais do tema de Geografia/Biografia/História, Belas artes e Linguagem estão com números tão baixos.\n",
        "\n",
        "Algumas questões surgem:\n",
        "* O acervo está atualizado?\n",
        "* O público da biblioteca tem a necessidade destas informações? Se sim, por que não estão usando?\n",
        "* Quais ações de marketing estão sendo realizadas para esses temas? "
      ]
    },
    {
      "cell_type": "markdown",
      "metadata": {
        "id": "UVPdQsDxbK4O"
      },
      "source": [
        "# Dia 5 - Analisando empréstimos com boxplot\n"
      ]
    },
    {
      "cell_type": "code",
      "execution_count": 77,
      "metadata": {
        "id": "btK58gGexr0l"
      },
      "outputs": [],
      "source": [
        "import pandas as pd\n",
        "import seaborn as sns\n",
        "import matplotlib.pyplot as plt"
      ]
    },
    {
      "cell_type": "code",
      "execution_count": 78,
      "metadata": {
        "colab": {
          "base_uri": "https://localhost:8080/",
          "height": 0
        },
        "id": "_veFbLoRjEzh",
        "outputId": "58bbd8c1-c066-4c7e-cf9e-65003733975e"
      },
      "outputs": [
        {
          "data": {
            "text/html": [
              "<div>\n",
              "<style scoped>\n",
              "    .dataframe tbody tr th:only-of-type {\n",
              "        vertical-align: middle;\n",
              "    }\n",
              "\n",
              "    .dataframe tbody tr th {\n",
              "        vertical-align: top;\n",
              "    }\n",
              "\n",
              "    .dataframe thead th {\n",
              "        text-align: right;\n",
              "    }\n",
              "</style>\n",
              "<table border=\"1\" class=\"dataframe\">\n",
              "  <thead>\n",
              "    <tr style=\"text-align: right;\">\n",
              "      <th></th>\n",
              "      <th>id_emprestimo</th>\n",
              "      <th>codigo_barras</th>\n",
              "      <th>data_renovacao</th>\n",
              "      <th>data_emprestimo</th>\n",
              "      <th>data_devolucao</th>\n",
              "      <th>matricula_ou_siape</th>\n",
              "      <th>tipo_vinculo_usuario</th>\n",
              "      <th>id_exemplar</th>\n",
              "      <th>colecao</th>\n",
              "      <th>biblioteca</th>\n",
              "      <th>status_material</th>\n",
              "      <th>localizacao</th>\n",
              "      <th>CDU_geral</th>\n",
              "    </tr>\n",
              "  </thead>\n",
              "  <tbody>\n",
              "    <tr>\n",
              "      <th>0</th>\n",
              "      <td>709686</td>\n",
              "      <td>2006017618</td>\n",
              "      <td>2010/01/26 08:07:01.738000000</td>\n",
              "      <td>2010-01-04 08:08:44.081</td>\n",
              "      <td>2010/02/25 07:36:25.800000000</td>\n",
              "      <td>2008112114.0</td>\n",
              "      <td>ALUNO DE PÓS-GRADUAÇÃO</td>\n",
              "      <td>195347</td>\n",
              "      <td>Acervo Circulante</td>\n",
              "      <td>Biblioteca Setorial Prof. Rodolfo Helinski - E...</td>\n",
              "      <td>REGULAR</td>\n",
              "      <td>640</td>\n",
              "      <td>Ciências aplicadas</td>\n",
              "    </tr>\n",
              "    <tr>\n",
              "      <th>1</th>\n",
              "      <td>709687</td>\n",
              "      <td>L184117</td>\n",
              "      <td>2010/01/18 11:07:46.470000000</td>\n",
              "      <td>2010-01-04 08:24:21.284</td>\n",
              "      <td>2010/02/03 08:58:45.692000000</td>\n",
              "      <td>200721119.0</td>\n",
              "      <td>ALUNO DE GRADUAÇÃO</td>\n",
              "      <td>131639</td>\n",
              "      <td>Acervo Circulante</td>\n",
              "      <td>Biblioteca Central Zila Mamede</td>\n",
              "      <td>REGULAR</td>\n",
              "      <td>609</td>\n",
              "      <td>Ciências aplicadas</td>\n",
              "    </tr>\n",
              "    <tr>\n",
              "      <th>2</th>\n",
              "      <td>709688</td>\n",
              "      <td>2007027500</td>\n",
              "      <td>2010/01/19 15:59:26.464000000</td>\n",
              "      <td>2010-01-04 08:27:33.569</td>\n",
              "      <td>2010/02/03 13:06:30.662000000</td>\n",
              "      <td>2009045971.0</td>\n",
              "      <td>ALUNO DE GRADUAÇÃO</td>\n",
              "      <td>225646</td>\n",
              "      <td>Acervo Circulante</td>\n",
              "      <td>Biblioteca Central Zila Mamede</td>\n",
              "      <td>REGULAR</td>\n",
              "      <td>686</td>\n",
              "      <td>Ciências aplicadas</td>\n",
              "    </tr>\n",
              "    <tr>\n",
              "      <th>3</th>\n",
              "      <td>709689</td>\n",
              "      <td>L157395</td>\n",
              "      <td>2010/01/19 15:59:26.447000000</td>\n",
              "      <td>2010-01-04 08:27:33.596</td>\n",
              "      <td>2010/02/03 13:06:43.125000000</td>\n",
              "      <td>2009045971.0</td>\n",
              "      <td>ALUNO DE GRADUAÇÃO</td>\n",
              "      <td>57040</td>\n",
              "      <td>Acervo Circulante</td>\n",
              "      <td>Biblioteca Central Zila Mamede</td>\n",
              "      <td>REGULAR</td>\n",
              "      <td>698</td>\n",
              "      <td>Ciências aplicadas</td>\n",
              "    </tr>\n",
              "    <tr>\n",
              "      <th>4</th>\n",
              "      <td>709691</td>\n",
              "      <td>2008046357</td>\n",
              "      <td>2010/01/19 11:50:13.404000000</td>\n",
              "      <td>2010-01-04 09:02:30.576</td>\n",
              "      <td>2010/02/02 12:13:36.132000000</td>\n",
              "      <td>200507453.0</td>\n",
              "      <td>ALUNO DE GRADUAÇÃO</td>\n",
              "      <td>256537</td>\n",
              "      <td>Acervo Circulante</td>\n",
              "      <td>Biblioteca Setorial Bertha Cruz Enders - ­Esco...</td>\n",
              "      <td>REGULAR</td>\n",
              "      <td>645</td>\n",
              "      <td>Ciências aplicadas</td>\n",
              "    </tr>\n",
              "  </tbody>\n",
              "</table>\n",
              "</div>"
            ],
            "text/plain": [
              "   id_emprestimo codigo_barras                 data_renovacao  \\\n",
              "0         709686    2006017618  2010/01/26 08:07:01.738000000   \n",
              "1         709687       L184117  2010/01/18 11:07:46.470000000   \n",
              "2         709688    2007027500  2010/01/19 15:59:26.464000000   \n",
              "3         709689       L157395  2010/01/19 15:59:26.447000000   \n",
              "4         709691    2008046357  2010/01/19 11:50:13.404000000   \n",
              "\n",
              "          data_emprestimo                 data_devolucao matricula_ou_siape  \\\n",
              "0 2010-01-04 08:08:44.081  2010/02/25 07:36:25.800000000       2008112114.0   \n",
              "1 2010-01-04 08:24:21.284  2010/02/03 08:58:45.692000000        200721119.0   \n",
              "2 2010-01-04 08:27:33.569  2010/02/03 13:06:30.662000000       2009045971.0   \n",
              "3 2010-01-04 08:27:33.596  2010/02/03 13:06:43.125000000       2009045971.0   \n",
              "4 2010-01-04 09:02:30.576  2010/02/02 12:13:36.132000000        200507453.0   \n",
              "\n",
              "     tipo_vinculo_usuario  id_exemplar            colecao  \\\n",
              "0  ALUNO DE PÓS-GRADUAÇÃO       195347  Acervo Circulante   \n",
              "1      ALUNO DE GRADUAÇÃO       131639  Acervo Circulante   \n",
              "2      ALUNO DE GRADUAÇÃO       225646  Acervo Circulante   \n",
              "3      ALUNO DE GRADUAÇÃO        57040  Acervo Circulante   \n",
              "4      ALUNO DE GRADUAÇÃO       256537  Acervo Circulante   \n",
              "\n",
              "                                          biblioteca status_material  \\\n",
              "0  Biblioteca Setorial Prof. Rodolfo Helinski - E...         REGULAR   \n",
              "1                     Biblioteca Central Zila Mamede         REGULAR   \n",
              "2                     Biblioteca Central Zila Mamede         REGULAR   \n",
              "3                     Biblioteca Central Zila Mamede         REGULAR   \n",
              "4  Biblioteca Setorial Bertha Cruz Enders - ­Esco...         REGULAR   \n",
              "\n",
              "   localizacao           CDU_geral  \n",
              "0          640  Ciências aplicadas  \n",
              "1          609  Ciências aplicadas  \n",
              "2          686  Ciências aplicadas  \n",
              "3          698  Ciências aplicadas  \n",
              "4          645  Ciências aplicadas  "
            ]
          },
          "execution_count": 78,
          "metadata": {},
          "output_type": "execute_result"
        }
      ],
      "source": [
        "emprestimos_completo.head()"
      ]
    },
    {
      "cell_type": "markdown",
      "metadata": {
        "id": "EJld8QqcBDve"
      },
      "source": [
        "## Alunos de graduação"
      ]
    },
    {
      "cell_type": "code",
      "execution_count": 79,
      "metadata": {
        "colab": {
          "base_uri": "https://localhost:8080/"
        },
        "id": "7ppsUFClBErc",
        "outputId": "d7ae86f4-6ce0-456f-d97f-7f35cfe4b13a"
      },
      "outputs": [
        {
          "data": {
            "text/plain": [
              "colecao\n",
              "Acervo Circulante                        723610\n",
              "Monografias                                 518\n",
              "Publicações de Autores do RN                221\n",
              "Publicações da UFRN                         159\n",
              "Obras de Referência                          49\n",
              "Multimeios                                   45\n",
              "Dissertações                                 30\n",
              "Folhetos                                     25\n",
              "Eventos                                      14\n",
              "Coleção Mossoroense                          12\n",
              "Necessidades Educacionais Específicas         9\n",
              "Coleção Zila Mamede                           6\n",
              "Literatura de Cordel                          4\n",
              "Obras Raras                                   2\n",
              "Trabalho Acadêmico                            1\n",
              "Name: count, dtype: int64"
            ]
          },
          "execution_count": 79,
          "metadata": {},
          "output_type": "execute_result"
        }
      ],
      "source": [
        "alunos_graduacao = emprestimos_completo.query('tipo_vinculo_usuario == \"ALUNO DE GRADUAÇÃO\"')\n",
        "alunos_graduacao.colecao.value_counts()"
      ]
    },
    {
      "cell_type": "markdown",
      "metadata": {
        "id": "q-dZK3agMqrD"
      },
      "source": [
        "### Criando tabela com a quantidade mensal por ano "
      ]
    },
    {
      "cell_type": "code",
      "execution_count": 80,
      "metadata": {
        "colab": {
          "base_uri": "https://localhost:8080/",
          "height": 0
        },
        "id": "88RZbDpUDrgT",
        "outputId": "bbf5d4ae-007e-482c-c08b-8ff806377a90"
      },
      "outputs": [
        {
          "data": {
            "text/html": [
              "<div>\n",
              "<style scoped>\n",
              "    .dataframe tbody tr th:only-of-type {\n",
              "        vertical-align: middle;\n",
              "    }\n",
              "\n",
              "    .dataframe tbody tr th {\n",
              "        vertical-align: top;\n",
              "    }\n",
              "\n",
              "    .dataframe thead th {\n",
              "        text-align: right;\n",
              "    }\n",
              "</style>\n",
              "<table border=\"1\" class=\"dataframe\">\n",
              "  <thead>\n",
              "    <tr style=\"text-align: right;\">\n",
              "      <th></th>\n",
              "      <th>ano</th>\n",
              "      <th>mes</th>\n",
              "      <th>quantidade</th>\n",
              "    </tr>\n",
              "  </thead>\n",
              "  <tbody>\n",
              "    <tr>\n",
              "      <th>0</th>\n",
              "      <td>2013</td>\n",
              "      <td>2</td>\n",
              "      <td>11739</td>\n",
              "    </tr>\n",
              "    <tr>\n",
              "      <th>1</th>\n",
              "      <td>2011</td>\n",
              "      <td>8</td>\n",
              "      <td>11696</td>\n",
              "    </tr>\n",
              "    <tr>\n",
              "      <th>2</th>\n",
              "      <td>2012</td>\n",
              "      <td>8</td>\n",
              "      <td>11641</td>\n",
              "    </tr>\n",
              "    <tr>\n",
              "      <th>3</th>\n",
              "      <td>2015</td>\n",
              "      <td>2</td>\n",
              "      <td>11374</td>\n",
              "    </tr>\n",
              "    <tr>\n",
              "      <th>4</th>\n",
              "      <td>2012</td>\n",
              "      <td>3</td>\n",
              "      <td>10814</td>\n",
              "    </tr>\n",
              "    <tr>\n",
              "      <th>...</th>\n",
              "      <td>...</td>\n",
              "      <td>...</td>\n",
              "      <td>...</td>\n",
              "    </tr>\n",
              "    <tr>\n",
              "      <th>118</th>\n",
              "      <td>2020</td>\n",
              "      <td>3</td>\n",
              "      <td>1292</td>\n",
              "    </tr>\n",
              "    <tr>\n",
              "      <th>119</th>\n",
              "      <td>2010</td>\n",
              "      <td>12</td>\n",
              "      <td>1073</td>\n",
              "    </tr>\n",
              "    <tr>\n",
              "      <th>120</th>\n",
              "      <td>2020</td>\n",
              "      <td>1</td>\n",
              "      <td>1024</td>\n",
              "    </tr>\n",
              "    <tr>\n",
              "      <th>121</th>\n",
              "      <td>2019</td>\n",
              "      <td>12</td>\n",
              "      <td>982</td>\n",
              "    </tr>\n",
              "    <tr>\n",
              "      <th>122</th>\n",
              "      <td>2011</td>\n",
              "      <td>1</td>\n",
              "      <td>519</td>\n",
              "    </tr>\n",
              "  </tbody>\n",
              "</table>\n",
              "<p>123 rows × 3 columns</p>\n",
              "</div>"
            ],
            "text/plain": [
              "      ano  mes  quantidade\n",
              "0    2013    2       11739\n",
              "1    2011    8       11696\n",
              "2    2012    8       11641\n",
              "3    2015    2       11374\n",
              "4    2012    3       10814\n",
              "..    ...  ...         ...\n",
              "118  2020    3        1292\n",
              "119  2010   12        1073\n",
              "120  2020    1        1024\n",
              "121  2019   12         982\n",
              "122  2011    1         519\n",
              "\n",
              "[123 rows x 3 columns]"
            ]
          },
          "execution_count": 80,
          "metadata": {},
          "output_type": "execute_result"
        }
      ],
      "source": [
        "alunos_graduacao_acervo_circulante = alunos_graduacao.query('colecao == \"Acervo Circulante\"')\n",
        "alunos_graduacao_acervo_circulante = pd.DataFrame(alunos_graduacao_acervo_circulante)\n",
        "alunos_graduacao_acervo_circulante['data_emprestimo'] = pd.to_datetime(alunos_graduacao_acervo_circulante['data_emprestimo'])\n",
        "alunos_graduacao_acervo_circulante['ano'] = alunos_graduacao_acervo_circulante['data_emprestimo'].dt.year\n",
        "alunos_graduacao_acervo_circulante['mes'] = alunos_graduacao_acervo_circulante['data_emprestimo'].dt.month\n",
        "alunos_graduacao_acervo_circulante = alunos_graduacao_acervo_circulante.loc[:,['ano','mes']]\n",
        "alunos_graduacao_acervo_circulante = alunos_graduacao_acervo_circulante.value_counts().to_frame('quantidade').reset_index()\n",
        "alunos_graduacao_acervo_circulante"
      ]
    },
    {
      "cell_type": "markdown",
      "metadata": {
        "id": "UkVqqfSPLVa6"
      },
      "source": [
        "### Função gera_box_plot"
      ]
    },
    {
      "cell_type": "code",
      "execution_count": 81,
      "metadata": {
        "id": "KV6IvwwWJG0x"
      },
      "outputs": [],
      "source": [
        "def gera_box_plot(dataset,x,y,titulo,subtitulo):\n",
        "  '''\n",
        "  Esta função irá gerar um gráfico de boxplot.\n",
        "\n",
        "  Dataset = conjunto de dados do gráfico\n",
        "  x = valor do eixo x do gráfico\n",
        "  y = valor do eixo y do gráfico\n",
        "  título = título do gráfico\n",
        "  subtitulo = subtitulo do texto\n",
        "  '''\n",
        "\n",
        "  sns.set_theme(style=\"darkgrid\", palette='Blues',font_scale=1.3)                    \n",
        "  plt.figure(figsize=(16,10))                                                           \n",
        "\n",
        "  ax = sns.boxplot(y= y, x= x, data= dataset,color='#4171EF')                                           \n",
        "  ax.yaxis.set_major_formatter(ticker.FuncFormatter(lambda x, p: format(int(x), ',').replace(',','.')))                \n",
        "\n",
        "\n",
        "  plt.ylim(0,max(dataset[y])*1.1)                                               #Definir o limite do eixo y\n",
        "  plt.xlabel(None)                                                                     \n",
        "  plt.ylabel(None)                                                                    \n",
        "\n",
        "  ax.set_title(titulo+\"\\n\",size=20,loc='left',weight='bold')\n",
        "  ax.text(s=subtitulo,x=-0.5,y=max(dataset[y])*1.11,fontsize=18, ha='left',color='gray')  "
      ]
    },
    {
      "cell_type": "markdown",
      "metadata": {
        "id": "zX6FTk1PLb7z"
      },
      "source": [
        "### Distribuição dos empréstimos mensais realizados pelos alunos de graduação na coleção do acervo circulante"
      ]
    },
    {
      "cell_type": "code",
      "execution_count": 82,
      "metadata": {
        "colab": {
          "base_uri": "https://localhost:8080/",
          "height": 0
        },
        "id": "ZDLMYZh2JLVD",
        "outputId": "ddf2a98d-f79f-4c48-87c2-b5243c25af27"
      },
      "outputs": [
        {
          "data": {
            "image/png": "[encoded data removed]",
            "text/plain": [
              "<Figure size 1600x1000 with 1 Axes>"
            ]
          },
          "metadata": {},
          "output_type": "display_data"
        }
      ],
      "source": [
        "gera_box_plot(alunos_graduacao_acervo_circulante,'ano','quantidade','Distribuição dos empréstimos mensais', 'Realizados pelos alunos de graduação no acervo circulante')"
      ]
    },
    {
      "cell_type": "markdown",
      "metadata": {
        "id": "5SoaLs7_NDVr"
      },
      "source": [
        "É importante ressaltar que esse recorte, reflete grande parte da estrutura geral do conjunto de dados, pois são os tipos de usuários com maior frequência (alunos de graduação) e da coleção mais utilizada por eles (acervo circulante).\n",
        "\n",
        "Com o boxplot é possível observar a oscilação da quantidade de empréstimos realizados mensalmente durante cada ano.\n",
        "\n",
        "Além da análise geral realizada (declínio a partir de 2013, forte baixa em 2019), chama atenção os anos de 2014 e 2017. Que se excluíssemos os outliers (possivelmente meses de janeiro e dezembro) teríamos anos com uma quantidade constante de empréstimos mensais. \n",
        "\n",
        "Mas se diferenciam principalmente porque em 2014 houve um declínio e em 2017 houve um aumento, em relação aos anos anteriores. Seria interessante entender com a direção das bibliotecas o que ocorreu nessas datas para que pudéssemos ter um contexto melhor da realidade do negócio.\n",
        "\n",
        "\n",
        "\n"
      ]
    },
    {
      "cell_type": "markdown",
      "metadata": {
        "id": "Bucp7WIMEEfX"
      },
      "source": [
        "## Aluno de pós graduação"
      ]
    },
    {
      "cell_type": "code",
      "execution_count": 83,
      "metadata": {
        "colab": {
          "base_uri": "https://localhost:8080/"
        },
        "id": "yIv6QtFhB8rK",
        "outputId": "61805256-c079-4611-aa19-dc1cc77d6553"
      },
      "outputs": [
        {
          "data": {
            "text/plain": [
              "colecao\n",
              "Acervo Circulante                        130529\n",
              "Publicações de Autores do RN                 82\n",
              "Publicações da UFRN                          49\n",
              "Monografias                                  21\n",
              "Multimeios                                   15\n",
              "Dissertações                                 10\n",
              "Folhetos                                      7\n",
              "Obras de Referência                           7\n",
              "Coleção Mossoroense                           6\n",
              "Coleção Zila Mamede                           4\n",
              "Necessidades Educacionais Específicas         2\n",
              "Literatura de Cordel                          2\n",
              "Teses                                         2\n",
              "Eventos                                       1\n",
              "Name: count, dtype: int64"
            ]
          },
          "execution_count": 83,
          "metadata": {},
          "output_type": "execute_result"
        }
      ],
      "source": [
        "alunos_pos_graduacao = emprestimos_completo.query('tipo_vinculo_usuario == \"ALUNO DE PÓS-GRADUAÇÃO\"')\n",
        "alunos_pos_graduacao.colecao.value_counts()"
      ]
    },
    {
      "cell_type": "markdown",
      "metadata": {
        "id": "dTwHwS-mM2kv"
      },
      "source": [
        "### Criando tabela com a quantidade mensal por ano "
      ]
    },
    {
      "cell_type": "code",
      "execution_count": 84,
      "metadata": {
        "colab": {
          "base_uri": "https://localhost:8080/",
          "height": 0
        },
        "id": "0EPf-IEoHThc",
        "outputId": "e080069b-3f5b-479e-99a4-55bce7a2f357"
      },
      "outputs": [
        {
          "data": {
            "text/html": [
              "<div>\n",
              "<style scoped>\n",
              "    .dataframe tbody tr th:only-of-type {\n",
              "        vertical-align: middle;\n",
              "    }\n",
              "\n",
              "    .dataframe tbody tr th {\n",
              "        vertical-align: top;\n",
              "    }\n",
              "\n",
              "    .dataframe thead th {\n",
              "        text-align: right;\n",
              "    }\n",
              "</style>\n",
              "<table border=\"1\" class=\"dataframe\">\n",
              "  <thead>\n",
              "    <tr style=\"text-align: right;\">\n",
              "      <th></th>\n",
              "      <th>ano</th>\n",
              "      <th>mes</th>\n",
              "      <th>quantidade</th>\n",
              "    </tr>\n",
              "  </thead>\n",
              "  <tbody>\n",
              "    <tr>\n",
              "      <th>0</th>\n",
              "      <td>2017</td>\n",
              "      <td>8</td>\n",
              "      <td>1833</td>\n",
              "    </tr>\n",
              "    <tr>\n",
              "      <th>1</th>\n",
              "      <td>2016</td>\n",
              "      <td>8</td>\n",
              "      <td>1794</td>\n",
              "    </tr>\n",
              "    <tr>\n",
              "      <th>2</th>\n",
              "      <td>2015</td>\n",
              "      <td>3</td>\n",
              "      <td>1724</td>\n",
              "    </tr>\n",
              "    <tr>\n",
              "      <th>3</th>\n",
              "      <td>2018</td>\n",
              "      <td>3</td>\n",
              "      <td>1687</td>\n",
              "    </tr>\n",
              "    <tr>\n",
              "      <th>4</th>\n",
              "      <td>2014</td>\n",
              "      <td>2</td>\n",
              "      <td>1676</td>\n",
              "    </tr>\n",
              "    <tr>\n",
              "      <th>...</th>\n",
              "      <td>...</td>\n",
              "      <td>...</td>\n",
              "      <td>...</td>\n",
              "    </tr>\n",
              "    <tr>\n",
              "      <th>118</th>\n",
              "      <td>2020</td>\n",
              "      <td>1</td>\n",
              "      <td>486</td>\n",
              "    </tr>\n",
              "    <tr>\n",
              "      <th>119</th>\n",
              "      <td>2020</td>\n",
              "      <td>2</td>\n",
              "      <td>390</td>\n",
              "    </tr>\n",
              "    <tr>\n",
              "      <th>120</th>\n",
              "      <td>2020</td>\n",
              "      <td>3</td>\n",
              "      <td>336</td>\n",
              "    </tr>\n",
              "    <tr>\n",
              "      <th>121</th>\n",
              "      <td>2011</td>\n",
              "      <td>1</td>\n",
              "      <td>227</td>\n",
              "    </tr>\n",
              "    <tr>\n",
              "      <th>122</th>\n",
              "      <td>2010</td>\n",
              "      <td>12</td>\n",
              "      <td>172</td>\n",
              "    </tr>\n",
              "  </tbody>\n",
              "</table>\n",
              "<p>123 rows × 3 columns</p>\n",
              "</div>"
            ],
            "text/plain": [
              "      ano  mes  quantidade\n",
              "0    2017    8        1833\n",
              "1    2016    8        1794\n",
              "2    2015    3        1724\n",
              "3    2018    3        1687\n",
              "4    2014    2        1676\n",
              "..    ...  ...         ...\n",
              "118  2020    1         486\n",
              "119  2020    2         390\n",
              "120  2020    3         336\n",
              "121  2011    1         227\n",
              "122  2010   12         172\n",
              "\n",
              "[123 rows x 3 columns]"
            ]
          },
          "execution_count": 84,
          "metadata": {},
          "output_type": "execute_result"
        }
      ],
      "source": [
        "alunos_pos_graduacao_acervo_circulante = alunos_pos_graduacao.query('colecao == \"Acervo Circulante\"')\n",
        "alunos_pos_graduacao_acervo_circulante = pd.DataFrame(alunos_pos_graduacao_acervo_circulante)\n",
        "alunos_pos_graduacao_acervo_circulante['data_emprestimo'] = pd.to_datetime(alunos_pos_graduacao_acervo_circulante['data_emprestimo'])\n",
        "alunos_pos_graduacao_acervo_circulante['ano'] = alunos_pos_graduacao_acervo_circulante['data_emprestimo'].dt.year\n",
        "alunos_pos_graduacao_acervo_circulante['mes'] = alunos_pos_graduacao_acervo_circulante['data_emprestimo'].dt.month\n",
        "alunos_pos_graduacao_acervo_circulante = alunos_pos_graduacao_acervo_circulante.loc[:,['ano','mes']]\n",
        "alunos_pos_graduacao_acervo_circulante = alunos_pos_graduacao_acervo_circulante.value_counts().to_frame('quantidade').reset_index()\n",
        "alunos_pos_graduacao_acervo_circulante"
      ]
    },
    {
      "cell_type": "markdown",
      "metadata": {
        "id": "FWJoVwPoL7D3"
      },
      "source": [
        "### Distribuição dos empréstimos mensais realizados pelos alunos de pós graduação na coleção do acervo circulante"
      ]
    },
    {
      "cell_type": "code",
      "execution_count": 85,
      "metadata": {
        "colab": {
          "base_uri": "https://localhost:8080/",
          "height": 0
        },
        "id": "PAvj_OGGL_Lq",
        "outputId": "34dc97e8-abe7-4990-9a37-5e0df80dee4a"
      },
      "outputs": [
        {
          "data": {
            "image/png": "[encoded data removed]",
            "text/plain": [
              "<Figure size 1600x1000 with 1 Axes>"
            ]
          },
          "metadata": {},
          "output_type": "display_data"
        }
      ],
      "source": [
        "gera_box_plot(alunos_pos_graduacao_acervo_circulante,'ano','quantidade','Distribuição dos empréstimos mensais', 'Realizados pelos alunos de pós graduação no acervo circulante')"
      ]
    },
    {
      "cell_type": "markdown",
      "metadata": {
        "id": "SN9WtqoBQBso"
      },
      "source": [
        "Já os alunos de pós graduação tiveram um aspecto diferente em relação ao declínio a partir de 2013: \n",
        "\n",
        "* A linha mediana foi diminuindo devagar até 2018. Entretanto valores máximos foram superiores, apenas caindo de fato em 2019. \n",
        "\n",
        "Nos dois gráficos podemos observar um grande aumento entre 2010 e 2013, o que nos leva a pensar em quais procedimentos estavam sendo realizados neste período para que houvesse esse crescimento.\n",
        "\n",
        "Nos dois recortes visualizamos que a partir de 2018 tivemos um forte declínio e é um alerta para que a direção possa entender o que está ocorrendo."
      ]
    },
    {
      "cell_type": "code",
      "execution_count": null,
      "metadata": {
        "id": "QBOcSqzJSWGy"
      },
      "outputs": [],
      "source": []
    }
  ],
  "metadata": {
    "colab": {
      "authorship_tag": "ABX9TyMtRyRfPHzR4RstrO35FMfC",
      "include_colab_link": true,
      "name": "Dia_5-Analisando_emprestimos_com_boxplot.ipynb",
      "provenance": []
    },
    "kernelspec": {
      "display_name": "Python 3",
      "name": "python3"
    },
    "language_info": {
      "codemirror_mode": {
        "name": "ipython",
        "version": 3
      },
      "file_extension": ".py",
      "mimetype": "text/x-python",
      "name": "python",
      "nbconvert_exporter": "python",
      "pygments_lexer": "ipython3",
      "version": "3.10.7"
    }
  },
  "nbformat": 4,
  "nbformat_minor": 0
}
